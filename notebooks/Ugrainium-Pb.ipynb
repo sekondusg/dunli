{
 "cells": [
  {
   "cell_type": "markdown",
   "metadata": {},
   "source": [
    "# Introduction\n",
    "\n",
    "This Morglorb recipe uses groupings of ingredients to try to cover nutritional requirements with enough overlap that a single ingredient with quality issues does not cause a failure for the whole recipe. An opimizer is used to find the right amount of each ingredient to fulfill the nutritional and practical requirements.\n",
    "\n",
    "# To Do\n",
    "\n",
    "* Nutrients without an upper limit should have the upper limit constraint removed\n",
    "* Add constraints for the NIH essential protein combinations as a limit\n",
    "* Add a radar graph for vitamins showing the boundry between RDI and UL\n",
    "* Add a radar graph for vitamins without an upper limit but showing the RDI\n",
    "* Add a radar graph for essential proteins showing the range between RDI and UL\n",
    "* Add a radar graph for essential proteins without an upper limit, but showing the RDI as the lower limit\n",
    "* Add a radar graph pair for non-essential proteins with the above UL and no UL pairing\n",
    "* Add equality constraints for at least energy, and macro nutrients if possible"
   ]
  },
  {
   "cell_type": "code",
   "execution_count": 2,
   "metadata": {},
   "outputs": [],
   "source": [
    "# Import all of the helper libraries \n",
    "\n",
    "from scipy.optimize import minimize\n",
    "from scipy.optimize import Bounds\n",
    "from scipy.optimize import least_squares, lsq_linear, dual_annealing, minimize\n",
    "import pandas as pd\n",
    "import numpy as np\n",
    "import os\n",
    "import json\n",
    "from math import e, log, log10\n",
    "import matplotlib.pyplot as plt\n",
    "import seaborn as sns\n",
    "from ipysheet import from_dataframe, to_dataframe"
   ]
  },
  {
   "cell_type": "code",
   "execution_count": 3,
   "metadata": {},
   "outputs": [],
   "source": [
    "#!pip install seaborn\n",
    "#!pip install ipysheet\n",
    "#!pip install ipywidgets"
   ]
  },
  {
   "cell_type": "code",
   "execution_count": 4,
   "metadata": {},
   "outputs": [],
   "source": [
    "# Setup the notebook context\n",
    "\n",
    "data_dir = '../src/data'\n",
    "pd.set_option('max_columns', 70)"
   ]
  },
  {
   "cell_type": "markdown",
   "metadata": {},
   "source": [
    "# Our Data\n",
    "\n",
    "The [tables](https://docs.google.com/spreadsheets/d/104Y7kH4OzmfsM-v2MSEoc7cIgv0aAMT2sQLAmgkx8R8/edit#gid=442191411) containing our ingredients nutrition profile are held in Google Sheets.\n",
    "The sheet names are \"Ingredients\" and \"Nutrition Profile\""
   ]
  },
  {
   "cell_type": "code",
   "execution_count": 5,
   "metadata": {},
   "outputs": [
    {
     "name": "stdout",
     "output_type": "stream",
     "text": [
      "Tokenization took: 0.09 ms\n",
      "Type conversion took: 1.87 ms\n",
      "Parser memory cleanup took: 0.01 ms\n",
      "Tokenization took: 0.10 ms\n",
      "Type conversion took: 1.96 ms\n",
      "Parser memory cleanup took: 0.02 ms\n"
     ]
    }
   ],
   "source": [
    "# Download our nutrition profile data from Google Sheets\n",
    "\n",
    "# For the technique to download the sheet data, see third post in SO: https://stackoverflow.com/questions/33713084/download-link-for-google-spreadsheets-csv-export-with-multiple-sheets\n",
    "# The \"Ugrainium PB\" spreadsheet\n",
    "ingredient_tab_url = 'https://docs.google.com/spreadsheets/d/e/2PACX-1vR46GO190pKxg8hm80NE5mLc2hDKDLJ7ZCLbIuIvx71gikSCI079pYhnljclZ7ltsr4SF_zuPoXCeso/pub?gid=1812860789&single=true&output=csv'\n",
    "nutrition_tab_url = 'https://docs.google.com/spreadsheets/d/e/2PACX-1vR46GO190pKxg8hm80NE5mLc2hDKDLJ7ZCLbIuIvx71gikSCI079pYhnljclZ7ltsr4SF_zuPoXCeso/pub?gid=624419712&single=true&output=csv'\n",
    "\n",
    "nutrition_profile_df = pd.read_csv(nutrition_tab_url, index_col=0, verbose=True)\n",
    "for col in ['RDI', 'UL', 'Target Scale', 'Target', 'Weight']:\n",
    "    nutrition_profile_df[col] = nutrition_profile_df[col].astype(float)\n",
    "nutrition_profile_df = nutrition_profile_df.transpose()\n",
    "\n",
    "ingredients_df = pd.read_csv(ingredient_tab_url, index_col=0, verbose=True).transpose()\n",
    "\n",
    "# convert all values to float\n",
    "for col in ingredients_df.columns:\n",
    "    ingredients_df[col] = ingredients_df[col].astype(float)\n",
    "#ingredients_df"
   ]
  },
  {
   "cell_type": "markdown",
   "metadata": {},
   "source": [
    "# Problem Setup\n",
    "\n",
    "Let's cast our data into the from $\\vec{y} = A \\vec{x} + \\vec{b}$ where $A$ is our ingredients data, $\\vec{x}$ is the quantity of each ingredient for our recipe, and $\\vec{b}$ is the nutrition profile.\n",
    "The problem to be solved is to find the quantity of each ingredient which will optimally satisfy the nutrition profile, or in our model, to minimize: $|A \\vec{x} - \\vec{b}|$.\n",
    "\n",
    "There are some nutrients we only want to track, but not optimize. For example, we want to know how much cholesterol is contained in our recipe, but we don't want to constrain our result to obtain a specific amount of cholesterol as a goal. The full list of ingredients are named: A_full, and b_full. The values to optimized are named: A and b"
   ]
  },
  {
   "cell_type": "code",
   "execution_count": 6,
   "metadata": {},
   "outputs": [
    {
     "data": {
      "text/plain": [
       "((17, 61), (8, 61))"
      ]
     },
     "execution_count": 6,
     "metadata": {},
     "output_type": "execute_result"
    }
   ],
   "source": [
    "ingredients_df.shape, nutrition_profile_df.shape"
   ]
  },
  {
   "cell_type": "code",
   "execution_count": 7,
   "metadata": {},
   "outputs": [
    {
     "data": {
      "text/plain": [
       "(61, 17)"
      ]
     },
     "execution_count": 7,
     "metadata": {},
     "output_type": "execute_result"
    }
   ],
   "source": [
    "b_full = nutrition_profile_df\n",
    "A_full = ingredients_df.transpose()\n",
    "A = ingredients_df.transpose()[nutrition_profile_df.loc['Report Only'] == False].astype(float)\n",
    "\n",
    "b_full = nutrition_profile_df.loc['Target']\n",
    "b = nutrition_profile_df.loc['Target'][nutrition_profile_df.loc['Report Only'] == False].astype(float)\n",
    "ul = nutrition_profile_df.loc['UL'][nutrition_profile_df.loc['Report Only'] == False].astype(float)\n",
    "rdi = nutrition_profile_df.loc['RDI'][nutrition_profile_df.loc['Report Only'] == False].astype(float)\n",
    "weight = nutrition_profile_df.loc['Weight'][nutrition_profile_df.loc['Report Only'] == False]\n",
    "ul_full = nutrition_profile_df.loc['UL']\n",
    "rdi_full = nutrition_profile_df.loc['RDI']\n",
    "A_full.shape"
   ]
  },
  {
   "cell_type": "code",
   "execution_count": 15,
   "metadata": {},
   "outputs": [
    {
     "data": {
      "text/plain": [
       "array([0.25, 0.  , 0.25, 0.  , 0.  , 0.  , 0.01, 1.  , 0.01, 0.  , 0.  ,\n",
       "       0.  , 0.  , 0.01, 0.01, 0.  , 0.  ])"
      ]
     },
     "execution_count": 15,
     "metadata": {},
     "output_type": "execute_result"
    }
   ],
   "source": [
    "# Constrain ingredients before the optimization process. Many of the ingredients are required for non-nutritional purposes \n",
    "# or are being limited to enhance flavor\n",
    "#\n",
    "# The bounds units are in fractions of 100g / day, i.e.: 0.5 represents 50g / day, of the ingredient\n",
    "\n",
    "#bounds_df = pd.DataFrame(index=ingredients_df.index, data={'lower': 0.0, 'upper': np.inf})\n",
    "bounds_df = pd.DataFrame(index=ingredients_df.index, data={'lower': 0.0, 'upper': 1.0e6})\n",
    "bounds_df.loc['Guar gum'] = [1.0 * .01, 1.0 * .01 + .0001]\n",
    "bounds_df.loc['Xanthan Gum'] = [1.0 * .01, 1.0 * .01 + .0001]\n",
    "#bounds_df.loc['Alpha-galactosidase enzyme (Beano)'] = [1.0, 1.0 + .0001]\n",
    "bounds_df.loc['Multivitamin'] = [1.0, 1.0 + .0001]\n",
    "#bounds_df.loc['Corn flour, nixtamalized'] = [0, 1.0]\n",
    "bounds_df.loc['Whey protein'] = [0.0,0.15]\n",
    "bounds_df.loc['Ascorbic acid'] = [0.01, 0.01 + .0001]\n",
    "#bounds_df.loc['Peanut butter'] = [0.70, 5.0]\n",
    "bounds_df.loc['Wheat bran, crude'] = [0.25, 5.0]\n",
    "bounds_df.loc['Flaxseed, fresh ground'] = [0.25, 5.0]\n",
    "bounds_df.loc['Choline Bitartrate'] = [0.0, 0.05]\n",
    "bounds_df.loc['Potassium chloride'] = [0.0, 0.15]\n",
    "bounds_df.loc['Canola oil'] = [0.01, 5.0]  # Minimum amount set to allow mixing of gums, dry pills, and lecithin \n",
    "lower = bounds_df.lower.values\n",
    "upper = bounds_df.upper.values\n",
    "lower.shape, upper.shape\n",
    "x0 = pd.array(lower)\n",
    "bounds = pd.DataFrame( data = {'lower': lower, 'upper': upper}, dtype=float)\n",
    "bounds.shape"
   ]
  },
  {
   "cell_type": "code",
   "execution_count": 9,
   "metadata": {},
   "outputs": [
    {
     "data": {
      "text/plain": [
       "(2654.4271326000526, 2159.3569456414143)"
      ]
     },
     "execution_count": 9,
     "metadata": {},
     "output_type": "execute_result"
    }
   ],
   "source": [
    "a = 100.; b = 2.; c = a; k = 10\n",
    "a = 20.; b = 2.; c = a; k = 10\n",
    "a = 5.; b = 0.1 ; c = a; k = 5\n",
    "#a = 12.; b = 0.1 ; c = 10.; k = 10.\n",
    "#u0 = (rdi + np.log(rdi)); u0.name = 'u0'\n",
    "#u0 = rdi * (1 + log(a))\n",
    "u0 = rdi / (1 - log(k) / a)\n",
    "u1 = ul / (log(k) / c + 1)\n",
    "#u1 = ul - np.log(ul); u1.name = 'u1'\n",
    "\n",
    "# Some objectives are singular without an upper/lower bound\n",
    "u1.loc[u0 > u1] = (u0 + u1) / 2.0\n",
    "#u = pd.concat([limits, pd.Series(y0,scale_limits.index, name='y0')], axis=1)\n",
    "\n",
    "def obj(x):\n",
    "    y0 = A.dot(x.transpose())\n",
    "    obj_vec = (np.exp(a * (u0 - y0)/u0) + np.exp(b * (y0 - u0)/u0) + np.nan_to_num(np.exp(c * (y0 - u1)/u1))) * weight\n",
    "    #print(f'obj_vec: {obj_vec[0]}, y0: {y0[0]}, u0: {u0[0]}')\n",
    "    return(np.sum(obj_vec))\n",
    "  \n",
    "rdi[26], u0[26], u1[26], ul[26]\n",
    "rdi[0:5], u0[0:5], u1[0:5], ul[0:5]\n",
    "#np.log(rdi)[26]\n",
    "#u1\n",
    "#rdi[u0 > u1], u0[u0 > u1], u1[u0 > u1], ul[u0 > u1]\n",
    "u0['Calories (kcal)'], u1['Calories (kcal)']"
   ]
  },
  {
   "cell_type": "code",
   "execution_count": 27,
   "metadata": {
    "tags": []
   },
   "outputs": [
    {
     "name": "stdout",
     "output_type": "stream",
     "text": [
      "Optimization terminated successfully    (Exit mode 0)\n",
      "            Current function value: 1841.0765435762607\n",
      "            Iterations: 53\n",
      "            Function evaluations: 999\n",
      "            Gradient evaluations: 53\n"
     ]
    },
    {
     "data": {
      "text/plain": [
       "True"
      ]
     },
     "execution_count": 27,
     "metadata": {},
     "output_type": "execute_result"
    }
   ],
   "source": [
    "solution = minimize(obj, x0, method='SLSQP', bounds=list(zip(lower, upper)), options = {'maxiter': 10000, 'disp': True, 'ftol': 0.000001})\n",
    "solution.success"
   ]
  },
  {
   "cell_type": "code",
   "execution_count": 28,
   "metadata": {},
   "outputs": [
    {
     "data": {
      "text/plain": [
       "1.0"
      ]
     },
     "execution_count": 28,
     "metadata": {},
     "output_type": "execute_result"
    }
   ],
   "source": [
    "x0.shape, A.shape, list(zip(lower, upper))\n",
    "np.exp(0)"
   ]
  },
  {
   "cell_type": "code",
   "execution_count": 29,
   "metadata": {},
   "outputs": [
    {
     "data": {
      "text/plain": [
       "Calories (kcal)         2374\n",
       "Carbohydrates (g)        335\n",
       "Protein (g)              118\n",
       "Total Fat (g)             81\n",
       "Saturated Fat (g)          9\n",
       "                       ...  \n",
       "Glutamic acid (mg)     23207\n",
       "Glycine (mg)            4511\n",
       "Proline (mg)            7063\n",
       "Serine (mg)             6529\n",
       "Hydroxyproline (mg)      265\n",
       "Length: 61, dtype: int64"
      ]
     },
     "execution_count": 29,
     "metadata": {},
     "output_type": "execute_result"
    }
   ],
   "source": [
    "A_full.dot(solution.x).astype(int)"
   ]
  },
  {
   "cell_type": "code",
   "execution_count": 30,
   "metadata": {},
   "outputs": [],
   "source": [
    "# Scale the ingredient nutrient amounts for the given quantity of each ingredient given by the optimizer\n",
    "solution_df = A_full.transpose().mul(solution.x, axis=0) # Scale each nutrient vector per ingredient by the amount of the ingredient\n",
    "solution_df.insert(0, 'Quantity (g)', solution.x * 100) # Scale to 100 g since that is basis for the nutrient quantities\n",
    "\n",
    "# Add a row showing the sum of the scaled amount of each nutrient\n",
    "total = solution_df.sum()\n",
    "total.name = 'Total'\n",
    "solution_df = solution_df.append(total)"
   ]
  },
  {
   "cell_type": "code",
   "execution_count": 31,
   "metadata": {},
   "outputs": [
    {
     "data": {
      "text/plain": [
       "Wheat bran, crude          1.409522\n",
       "Millet Flour               0.690216\n",
       "Flaxseed, fresh ground     0.636153\n",
       "Pea Protein Powder         0.000000\n",
       "Soy protein isolate        0.198796\n",
       "Whey protein               0.072000\n",
       "Canola oil                 0.000000\n",
       "Multivitamin               0.080008\n",
       "Ascorbic acid              0.000000\n",
       "Calcium and vitamin D      0.000000\n",
       "Vitamin K                  0.000000\n",
       "Salt, iodized              0.000000\n",
       "Potassium chloride         7.544951\n",
       "Guar gum                   0.000000\n",
       "Xanthan Gum                0.003444\n",
       "Choline Bitartrate         0.000000\n",
       "Lecithin granules          0.081952\n",
       "Total                     10.717042\n",
       "Name: Potassium (g), dtype: float64"
      ]
     },
     "execution_count": 31,
     "metadata": {},
     "output_type": "execute_result"
    }
   ],
   "source": [
    "solution_df['Potassium (g)']"
   ]
  },
  {
   "cell_type": "code",
   "execution_count": 32,
   "metadata": {},
   "outputs": [
    {
     "data": {
      "image/png": "[encoded data removed]",
      "text/plain": [
       "<Figure size 720x360 with 2 Axes>"
      ]
     },
     "metadata": {
      "needs_background": "light"
     },
     "output_type": "display_data"
    }
   ],
   "source": [
    "# Plot the macro nutrient profile\n",
    "# The ratio of Calories for protein:carbohydrates:fat is 4:4:9 kcal/g\n",
    "pc = solution_df['Protein (g)']['Total'] * 4.0\n",
    "cc = solution_df['Carbohydrates (g)']['Total'] * 4.0\n",
    "fc = solution_df['Total Fat (g)']['Total'] * 9.0\n",
    "tc = pc + cc + fc\n",
    "p_pct = int(round(pc / tc * 100))\n",
    "c_pct = int(round(cc / tc * 100))\n",
    "f_pct = int(round(fc / tc * 100))\n",
    "(p_pct, c_pct, f_pct)\n",
    "# create data\n",
    "names=f'Protein Cal {p_pct}%', f'Carbohydrates Cal {c_pct}%', f'Fat Cal {f_pct}%', \n",
    "size=[p_pct, c_pct, f_pct]\n",
    " \n",
    "fig = plt.figure(figsize=(10, 5))\n",
    "\n",
    "fig.add_subplot(1,2,1)\n",
    "# Create a circle for the center of the plot\n",
    "my_circle=plt.Circle( (0,0), 0.5, color='white')\n",
    "\n",
    "# Give color names\n",
    "cmap = plt.get_cmap('Spectral')\n",
    "sm = plt.cm.ScalarMappable(cmap=cmap)\n",
    "colors = ['yellow','orange','red']\n",
    "plt.pie(size, labels=names, colors=colors)\n",
    "\n",
    "#p=plt.gcf()\n",
    "#p.gca().add_artist(my_circle)\n",
    "fig.gca().add_artist(my_circle)\n",
    "#plt.show()\n",
    "\n",
    "fig.add_subplot(1,2,2)\n",
    "barWidth = 1\n",
    "fs = [solution_df['Soluble Fiber (g)']['Total']]\n",
    "fi = [solution_df['Insoluble Fiber (g)']['Total']]\n",
    "plt.bar([0], fs, color='blue', edgecolor='white', width=barWidth, label=['Soluble Fiber (g)'])\n",
    "plt.bar([0], fi, bottom=fs, color='green', edgecolor='white', width=barWidth, label=['Insoluble Fiber (g)'])\n",
    "plt.show()\n",
    "# Also show the Omega-3, Omega-6 ratio\n",
    "# Saturated:Monounsaturated:Polyunsaturated ratios"
   ]
  },
  {
   "cell_type": "code",
   "execution_count": 41,
   "metadata": {},
   "outputs": [
    {
     "data": {
      "text/plain": [
       "2.280221758482958"
      ]
     },
     "execution_count": 41,
     "metadata": {},
     "output_type": "execute_result"
    }
   ],
   "source": [
    "# Prepare data as a whole for plotting by normalizing and scaling\n",
    "amounts = solution_df\n",
    "total = A_full.dot(solution.x) #solution_df.loc['Total']\n",
    "\n",
    "# Normalize as a ratio beyond RDI\n",
    "norm = (total) / rdi_full\n",
    "norm_ul = (ul_full) / rdi_full\n",
    "\n",
    "nuts = pd.concat([pd.Series(norm.values, name='value'), pd.Series(norm.index, name='name')], axis=1)\n",
    "norm['Potassium (g)']\n"
   ]
  },
  {
   "cell_type": "code",
   "execution_count": 34,
   "metadata": {},
   "outputs": [],
   "source": [
    "# Setup categories of nutrients and a common plotting function\n",
    "vitamins = ['Vitamin A (IU)','Vitamin B6 (mg)','Vitamin B12 (ug)','Vitamin C (mg)','Vitamin D (IU)',\n",
    "            'Vitamin E (IU)','Vitamin K (ug)','Thiamin (mg)','Riboflavin (mg)','Niacin (mg)','Folate (ug)','Pantothenic Acid (mg)','Biotin (ug)','Choline (mg)']\n",
    "minerals = ['Calcium (g)','Chloride (g)','Chromium (ug)','Copper (mg)','Iodine (ug)','Iron (mg)',\n",
    "            'Magnesium (mg)','Manganese (mg)','Molybdenum (ug)','Phosphorus (g)','Potassium (g)','Selenium (ug)','Sodium (g)','Sulfur (g)','Zinc (mg)']\n",
    "essential_aminoacids = ['Cystine (mg)','Histidine (mg)','Isoleucine (mg)','Leucine (mg)','Lysine (mg)',\n",
    "                        'Methionine (mg)','Phenylalanine (mg)','Threonine (mg)','Tryptophan (mg)','Valine (mg)']\n",
    "other_aminoacids = ['Tyrosine (mg)','Arginine (mg)','Alanine (mg)','Aspartic acid (mg)','Glutamic acid (mg)','Glycine (mg)','Proline (mg)','Serine (mg)','Hydroxyproline (mg)']\n",
    "\n",
    "def plot_group(nut_names, title):\n",
    "    nut_names_short = [s.split(' (')[0] for s in nut_names] # Snip off the units from the nutrient names\n",
    "    \n",
    "    # Create a bar to indicate an upper limit \n",
    "    ul_bar = (norm_ul * 1.04)[nut_names]\n",
    "    ul_bar[ul_full[nut_names].isnull() == True] = 0\n",
    "    \n",
    "    # Create a bar to mask the UL bar so just the end is exposed\n",
    "    ul_mask = norm_ul[nut_names]\n",
    "    ul_mask[ul_full[nut_names].isnull() == True] = 0\n",
    "    \n",
    "    \n",
    "    n = []  # normalized values for each bar\n",
    "    for x, mx in zip(norm[nut_names], ul_mask.values):\n",
    "        if mx == 0: # no upper limit\n",
    "            if x < 1.0:\n",
    "                n.append(1.0 - (x / 2.0))\n",
    "            else:\n",
    "                n.append(0.50)\n",
    "        else:\n",
    "            n.append(1.0 - (log10(x) / log10(mx)))\n",
    "    clrs = sm.to_rgba(n, norm=False)\n",
    "    \n",
    "    g = sns.barplot(x=ul_bar.values, y=nut_names_short, color='red')\n",
    "    g.set_xscale('log')\n",
    "    sns.barplot(x=ul_mask.values, y=nut_names_short, color='white')\n",
    "    bax = sns.barplot(x=norm[nut_names], y=nut_names_short, label=\"Total\", palette=clrs)\n",
    "    \n",
    "    # Add a legend and informative axis label\n",
    "    g.set( ylabel=\"\",xlabel=\"Nutrient Mass / RDI (Red Band is UL)\", title=title)\n",
    "\n",
    "    #sns.despine(left=True, bottom=True)"
   ]
  },
  {
   "cell_type": "code",
   "execution_count": 35,
   "metadata": {},
   "outputs": [
    {
     "data": {
      "image/png": "[encoded data removed]",
      "text/plain": [
       "<Figure size 1440x1440 with 4 Axes>"
      ]
     },
     "metadata": {
      "needs_background": "light"
     },
     "output_type": "display_data"
    }
   ],
   "source": [
    "# Construct a group of bar charts for each nutrient group\n",
    "\n",
    "# Setup the colormap for each bar\n",
    "cmap = plt.get_cmap('Spectral')\n",
    "sm = plt.cm.ScalarMappable(cmap=cmap)\n",
    "\n",
    "#fig = plt.figure(figsize=plt.figaspect(3.))\n",
    "fig = plt.figure(figsize=(20, 20))\n",
    "fig.add_subplot(4, 1, 1)\n",
    "plot_group(vitamins,'Vitamin amounts relative to RDI')\n",
    "fig.add_subplot(4, 1, 2)\n",
    "plot_group(minerals,'Mineral amounts relative to RDI')\n",
    "fig.add_subplot(4, 1, 3)\n",
    "plot_group(essential_aminoacids,'Essential amino acid amounts relative to RDI')\n",
    "fig.add_subplot(4, 1, 4)\n",
    "plot_group(other_aminoacids,'Other amino acid amounts relative to RDI')\n",
    "\n",
    "#fig.show()\n",
    "fig.tight_layout()"
   ]
  },
  {
   "cell_type": "code",
   "execution_count": 63,
   "metadata": {},
   "outputs": [
    {
     "data": {
      "text/html": [
       "<div>\n",
       "<style scoped>\n",
       "    .dataframe tbody tr th:only-of-type {\n",
       "        vertical-align: middle;\n",
       "    }\n",
       "\n",
       "    .dataframe tbody tr th {\n",
       "        vertical-align: top;\n",
       "    }\n",
       "\n",
       "    .dataframe thead th {\n",
       "        text-align: right;\n",
       "    }\n",
       "</style>\n",
       "<table border=\"1\" class=\"dataframe\">\n",
       "  <thead>\n",
       "    <tr style=\"text-align: right;\">\n",
       "      <th></th>\n",
       "      <th>Quantity (g)</th>\n",
       "      <th>Batch (g)</th>\n",
       "    </tr>\n",
       "    <tr>\n",
       "      <th>Ingredient</th>\n",
       "      <th></th>\n",
       "      <th></th>\n",
       "    </tr>\n",
       "  </thead>\n",
       "  <tbody>\n",
       "    <tr>\n",
       "      <th>Wheat bran, crude</th>\n",
       "      <td>119.25</td>\n",
       "      <td>1,669.48</td>\n",
       "    </tr>\n",
       "    <tr>\n",
       "      <th>Millet Flour</th>\n",
       "      <td>308.13</td>\n",
       "      <td>4,313.85</td>\n",
       "    </tr>\n",
       "    <tr>\n",
       "      <th>Flaxseed, fresh ground</th>\n",
       "      <td>78.25</td>\n",
       "      <td>1,095.47</td>\n",
       "    </tr>\n",
       "    <tr>\n",
       "      <th>Pea Protein Powder</th>\n",
       "      <td>30.24</td>\n",
       "      <td>423.42</td>\n",
       "    </tr>\n",
       "    <tr>\n",
       "      <th>Soy protein isolate</th>\n",
       "      <td>12.50</td>\n",
       "      <td>175.04</td>\n",
       "    </tr>\n",
       "    <tr>\n",
       "      <th>Whey protein</th>\n",
       "      <td>15.00</td>\n",
       "      <td>210.00</td>\n",
       "    </tr>\n",
       "    <tr>\n",
       "      <th>Canola oil</th>\n",
       "      <td>30.19</td>\n",
       "      <td>422.64</td>\n",
       "    </tr>\n",
       "    <tr>\n",
       "      <th>Multivitamin</th>\n",
       "      <td>100.01</td>\n",
       "      <td>1,400.14</td>\n",
       "    </tr>\n",
       "    <tr>\n",
       "      <th>Ascorbic acid</th>\n",
       "      <td>1.00</td>\n",
       "      <td>14.00</td>\n",
       "    </tr>\n",
       "    <tr>\n",
       "      <th>Calcium and vitamin D</th>\n",
       "      <td>182.44</td>\n",
       "      <td>2,554.23</td>\n",
       "    </tr>\n",
       "    <tr>\n",
       "      <th>Vitamin K</th>\n",
       "      <td>51.62</td>\n",
       "      <td>722.61</td>\n",
       "    </tr>\n",
       "    <tr>\n",
       "      <th>Salt, iodized</th>\n",
       "      <td>4.04</td>\n",
       "      <td>56.56</td>\n",
       "    </tr>\n",
       "    <tr>\n",
       "      <th>Potassium chloride</th>\n",
       "      <td>14.40</td>\n",
       "      <td>201.58</td>\n",
       "    </tr>\n",
       "    <tr>\n",
       "      <th>Guar gum</th>\n",
       "      <td>1.01</td>\n",
       "      <td>14.14</td>\n",
       "    </tr>\n",
       "    <tr>\n",
       "      <th>Xanthan Gum</th>\n",
       "      <td>1.01</td>\n",
       "      <td>14.14</td>\n",
       "    </tr>\n",
       "    <tr>\n",
       "      <th>Choline Bitartrate</th>\n",
       "      <td>5.00</td>\n",
       "      <td>70.00</td>\n",
       "    </tr>\n",
       "    <tr>\n",
       "      <th>Lecithin granules</th>\n",
       "      <td>5.12</td>\n",
       "      <td>71.71</td>\n",
       "    </tr>\n",
       "    <tr>\n",
       "      <th>Total</th>\n",
       "      <td>959.22</td>\n",
       "      <td>13,429.02</td>\n",
       "    </tr>\n",
       "  </tbody>\n",
       "</table>\n",
       "</div>"
      ],
      "text/plain": [
       "                        Quantity (g)  Batch (g)\n",
       "Ingredient                                     \n",
       "Wheat bran, crude             119.25   1,669.48\n",
       "Millet Flour                  308.13   4,313.85\n",
       "Flaxseed, fresh ground         78.25   1,095.47\n",
       "Pea Protein Powder             30.24     423.42\n",
       "Soy protein isolate            12.50     175.04\n",
       "Whey protein                   15.00     210.00\n",
       "Canola oil                     30.19     422.64\n",
       "Multivitamin                  100.01   1,400.14\n",
       "Ascorbic acid                   1.00      14.00\n",
       "Calcium and vitamin D         182.44   2,554.23\n",
       "Vitamin K                      51.62     722.61\n",
       "Salt, iodized                   4.04      56.56\n",
       "Potassium chloride             14.40     201.58\n",
       "Guar gum                        1.01      14.14\n",
       "Xanthan Gum                     1.01      14.14\n",
       "Choline Bitartrate              5.00      70.00\n",
       "Lecithin granules               5.12      71.71\n",
       "Total                         959.22  13,429.02"
      ]
     },
     "execution_count": 63,
     "metadata": {},
     "output_type": "execute_result"
    }
   ],
   "source": [
    "#solu_amount = (solution_df['Quantity (g)'] * 14).astype(int)\n",
    "pd.options.display.float_format = \"{:,.2f}\".format\n",
    "solu_amount = solution_df['Quantity (g)']\n",
    "solu_amount.index.name = 'Ingredient'\n",
    "#solu_amount['Batch (g)'] = solu_amount * 14.0\n",
    "solu_amount.reset_index()\n",
    "recipe = pd.DataFrame(solu_amount)\n",
    "recipe['Batch (g)'] = recipe['Quantity (g)'] * 14.0\n",
    "recipe"
   ]
  },
  {
   "cell_type": "code",
   "execution_count": 64,
   "metadata": {},
   "outputs": [
    {
     "data": {
      "text/plain": [
       "2374"
      ]
     },
     "execution_count": 64,
     "metadata": {},
     "output_type": "execute_result"
    }
   ],
   "source": [
    "A_full.dot(solution.x).astype(int)['Calories (kcal)']"
   ]
  },
  {
   "cell_type": "code",
   "execution_count": 65,
   "metadata": {},
   "outputs": [
    {
     "data": {
      "text/plain": [
       "959.2155232049505"
      ]
     },
     "execution_count": 65,
     "metadata": {},
     "output_type": "execute_result"
    }
   ],
   "source": [
    "recipe['Quantity (g)']['Total']"
   ]
  },
  {
   "cell_type": "code",
   "execution_count": 66,
   "metadata": {},
   "outputs": [
    {
     "ename": "KeyError",
     "evalue": "'Alpha-galactosidase enzyme (Beano)'",
     "output_type": "error",
     "traceback": [
      "\u001b[0;31m---------------------------------------------------------------------------\u001b[0m",
      "\u001b[0;31mKeyError\u001b[0m                                  Traceback (most recent call last)",
      "\u001b[0;32m~/dev/dunli/venv/lib/python3.9/site-packages/pandas/core/indexes/base.py\u001b[0m in \u001b[0;36mget_loc\u001b[0;34m(self, key, method, tolerance)\u001b[0m\n\u001b[1;32m   3360\u001b[0m             \u001b[0;32mtry\u001b[0m\u001b[0;34m:\u001b[0m\u001b[0;34m\u001b[0m\u001b[0;34m\u001b[0m\u001b[0m\n\u001b[0;32m-> 3361\u001b[0;31m                 \u001b[0;32mreturn\u001b[0m \u001b[0mself\u001b[0m\u001b[0;34m.\u001b[0m\u001b[0m_engine\u001b[0m\u001b[0;34m.\u001b[0m\u001b[0mget_loc\u001b[0m\u001b[0;34m(\u001b[0m\u001b[0mcasted_key\u001b[0m\u001b[0;34m)\u001b[0m\u001b[0;34m\u001b[0m\u001b[0;34m\u001b[0m\u001b[0m\n\u001b[0m\u001b[1;32m   3362\u001b[0m             \u001b[0;32mexcept\u001b[0m \u001b[0mKeyError\u001b[0m \u001b[0;32mas\u001b[0m \u001b[0merr\u001b[0m\u001b[0;34m:\u001b[0m\u001b[0;34m\u001b[0m\u001b[0;34m\u001b[0m\u001b[0m\n",
      "\u001b[0;32m~/dev/dunli/venv/lib/python3.9/site-packages/pandas/_libs/index.pyx\u001b[0m in \u001b[0;36mpandas._libs.index.IndexEngine.get_loc\u001b[0;34m()\u001b[0m\n",
      "\u001b[0;32m~/dev/dunli/venv/lib/python3.9/site-packages/pandas/_libs/index.pyx\u001b[0m in \u001b[0;36mpandas._libs.index.IndexEngine.get_loc\u001b[0;34m()\u001b[0m\n",
      "\u001b[0;32mpandas/_libs/hashtable_class_helper.pxi\u001b[0m in \u001b[0;36mpandas._libs.hashtable.PyObjectHashTable.get_item\u001b[0;34m()\u001b[0m\n",
      "\u001b[0;32mpandas/_libs/hashtable_class_helper.pxi\u001b[0m in \u001b[0;36mpandas._libs.hashtable.PyObjectHashTable.get_item\u001b[0;34m()\u001b[0m\n",
      "\u001b[0;31mKeyError\u001b[0m: 'Alpha-galactosidase enzyme (Beano)'",
      "\nThe above exception was the direct cause of the following exception:\n",
      "\u001b[0;31mKeyError\u001b[0m                                  Traceback (most recent call last)",
      "\u001b[0;32m/tmp/ipykernel_165698/3898101537.py\u001b[0m in \u001b[0;36m<module>\u001b[0;34m\u001b[0m\n\u001b[1;32m      1\u001b[0m \u001b[0mcalories\u001b[0m \u001b[0;34m=\u001b[0m \u001b[0mA_full\u001b[0m\u001b[0;34m.\u001b[0m\u001b[0mdot\u001b[0m\u001b[0;34m(\u001b[0m\u001b[0msolution\u001b[0m\u001b[0;34m.\u001b[0m\u001b[0mx\u001b[0m\u001b[0;34m)\u001b[0m\u001b[0;34m.\u001b[0m\u001b[0mastype\u001b[0m\u001b[0;34m(\u001b[0m\u001b[0mint\u001b[0m\u001b[0;34m)\u001b[0m\u001b[0;34m[\u001b[0m\u001b[0;34m'Calories (kcal)'\u001b[0m\u001b[0;34m]\u001b[0m\u001b[0;34m\u001b[0m\u001b[0;34m\u001b[0m\u001b[0m\n\u001b[0;32m----> 2\u001b[0;31m \u001b[0mweight\u001b[0m \u001b[0;34m=\u001b[0m \u001b[0mrecipe\u001b[0m\u001b[0;34m[\u001b[0m\u001b[0;34m'Quantity (g)'\u001b[0m\u001b[0;34m]\u001b[0m\u001b[0;34m[\u001b[0m\u001b[0;34m'Total'\u001b[0m\u001b[0;34m]\u001b[0m \u001b[0;34m-\u001b[0m \u001b[0mrecipe\u001b[0m\u001b[0;34m[\u001b[0m\u001b[0;34m'Quantity (g)'\u001b[0m\u001b[0;34m]\u001b[0m\u001b[0;34m[\u001b[0m\u001b[0;34m'Vitamin K'\u001b[0m\u001b[0;34m]\u001b[0m \u001b[0;34m-\u001b[0m \u001b[0mrecipe\u001b[0m\u001b[0;34m[\u001b[0m\u001b[0;34m'Quantity (g)'\u001b[0m\u001b[0;34m]\u001b[0m\u001b[0;34m[\u001b[0m\u001b[0;34m'Alpha-galactosidase enzyme (Beano)'\u001b[0m\u001b[0;34m]\u001b[0m \u001b[0;34m-\u001b[0m \u001b[0mrecipe\u001b[0m\u001b[0;34m[\u001b[0m\u001b[0;34m'Quantity (g)'\u001b[0m\u001b[0;34m]\u001b[0m\u001b[0;34m[\u001b[0m\u001b[0;34m'Multivitamin'\u001b[0m\u001b[0;34m]\u001b[0m \u001b[0;34m-\u001b[0m \u001b[0mrecipe\u001b[0m\u001b[0;34m[\u001b[0m\u001b[0;34m'Quantity (g)'\u001b[0m\u001b[0;34m]\u001b[0m\u001b[0;34m[\u001b[0m\u001b[0;34m'Calcium and vitamin D'\u001b[0m\u001b[0;34m]\u001b[0m\u001b[0;34m\u001b[0m\u001b[0;34m\u001b[0m\u001b[0m\n\u001b[0m\u001b[1;32m      3\u001b[0m \u001b[0mcal_by_100g\u001b[0m \u001b[0;34m=\u001b[0m \u001b[0mint\u001b[0m\u001b[0;34m(\u001b[0m\u001b[0mcalories\u001b[0m \u001b[0;34m/\u001b[0m \u001b[0mweight\u001b[0m \u001b[0;34m*\u001b[0m \u001b[0;36m100.\u001b[0m\u001b[0;34m)\u001b[0m\u001b[0;34m\u001b[0m\u001b[0;34m\u001b[0m\u001b[0m\n\u001b[1;32m      4\u001b[0m \u001b[0;34m'Calories per 100 g:'\u001b[0m\u001b[0;34m,\u001b[0m \u001b[0mcal_by_100g\u001b[0m\u001b[0;34m\u001b[0m\u001b[0;34m\u001b[0m\u001b[0m\n",
      "\u001b[0;32m~/dev/dunli/venv/lib/python3.9/site-packages/pandas/core/series.py\u001b[0m in \u001b[0;36m__getitem__\u001b[0;34m(self, key)\u001b[0m\n\u001b[1;32m    940\u001b[0m \u001b[0;34m\u001b[0m\u001b[0m\n\u001b[1;32m    941\u001b[0m         \u001b[0;32melif\u001b[0m \u001b[0mkey_is_scalar\u001b[0m\u001b[0;34m:\u001b[0m\u001b[0;34m\u001b[0m\u001b[0;34m\u001b[0m\u001b[0m\n\u001b[0;32m--> 942\u001b[0;31m             \u001b[0;32mreturn\u001b[0m \u001b[0mself\u001b[0m\u001b[0;34m.\u001b[0m\u001b[0m_get_value\u001b[0m\u001b[0;34m(\u001b[0m\u001b[0mkey\u001b[0m\u001b[0;34m)\u001b[0m\u001b[0;34m\u001b[0m\u001b[0;34m\u001b[0m\u001b[0m\n\u001b[0m\u001b[1;32m    943\u001b[0m \u001b[0;34m\u001b[0m\u001b[0m\n\u001b[1;32m    944\u001b[0m         \u001b[0;32mif\u001b[0m \u001b[0mis_hashable\u001b[0m\u001b[0;34m(\u001b[0m\u001b[0mkey\u001b[0m\u001b[0;34m)\u001b[0m\u001b[0;34m:\u001b[0m\u001b[0;34m\u001b[0m\u001b[0;34m\u001b[0m\u001b[0m\n",
      "\u001b[0;32m~/dev/dunli/venv/lib/python3.9/site-packages/pandas/core/series.py\u001b[0m in \u001b[0;36m_get_value\u001b[0;34m(self, label, takeable)\u001b[0m\n\u001b[1;32m   1049\u001b[0m \u001b[0;34m\u001b[0m\u001b[0m\n\u001b[1;32m   1050\u001b[0m         \u001b[0;31m# Similar to Index.get_value, but we do not fall back to positional\u001b[0m\u001b[0;34m\u001b[0m\u001b[0;34m\u001b[0m\u001b[0m\n\u001b[0;32m-> 1051\u001b[0;31m         \u001b[0mloc\u001b[0m \u001b[0;34m=\u001b[0m \u001b[0mself\u001b[0m\u001b[0;34m.\u001b[0m\u001b[0mindex\u001b[0m\u001b[0;34m.\u001b[0m\u001b[0mget_loc\u001b[0m\u001b[0;34m(\u001b[0m\u001b[0mlabel\u001b[0m\u001b[0;34m)\u001b[0m\u001b[0;34m\u001b[0m\u001b[0;34m\u001b[0m\u001b[0m\n\u001b[0m\u001b[1;32m   1052\u001b[0m         \u001b[0;32mreturn\u001b[0m \u001b[0mself\u001b[0m\u001b[0;34m.\u001b[0m\u001b[0mindex\u001b[0m\u001b[0;34m.\u001b[0m\u001b[0m_get_values_for_loc\u001b[0m\u001b[0;34m(\u001b[0m\u001b[0mself\u001b[0m\u001b[0;34m,\u001b[0m \u001b[0mloc\u001b[0m\u001b[0;34m,\u001b[0m \u001b[0mlabel\u001b[0m\u001b[0;34m)\u001b[0m\u001b[0;34m\u001b[0m\u001b[0;34m\u001b[0m\u001b[0m\n\u001b[1;32m   1053\u001b[0m \u001b[0;34m\u001b[0m\u001b[0m\n",
      "\u001b[0;32m~/dev/dunli/venv/lib/python3.9/site-packages/pandas/core/indexes/base.py\u001b[0m in \u001b[0;36mget_loc\u001b[0;34m(self, key, method, tolerance)\u001b[0m\n\u001b[1;32m   3361\u001b[0m                 \u001b[0;32mreturn\u001b[0m \u001b[0mself\u001b[0m\u001b[0;34m.\u001b[0m\u001b[0m_engine\u001b[0m\u001b[0;34m.\u001b[0m\u001b[0mget_loc\u001b[0m\u001b[0;34m(\u001b[0m\u001b[0mcasted_key\u001b[0m\u001b[0;34m)\u001b[0m\u001b[0;34m\u001b[0m\u001b[0;34m\u001b[0m\u001b[0m\n\u001b[1;32m   3362\u001b[0m             \u001b[0;32mexcept\u001b[0m \u001b[0mKeyError\u001b[0m \u001b[0;32mas\u001b[0m \u001b[0merr\u001b[0m\u001b[0;34m:\u001b[0m\u001b[0;34m\u001b[0m\u001b[0;34m\u001b[0m\u001b[0m\n\u001b[0;32m-> 3363\u001b[0;31m                 \u001b[0;32mraise\u001b[0m \u001b[0mKeyError\u001b[0m\u001b[0;34m(\u001b[0m\u001b[0mkey\u001b[0m\u001b[0;34m)\u001b[0m \u001b[0;32mfrom\u001b[0m \u001b[0merr\u001b[0m\u001b[0;34m\u001b[0m\u001b[0;34m\u001b[0m\u001b[0m\n\u001b[0m\u001b[1;32m   3364\u001b[0m \u001b[0;34m\u001b[0m\u001b[0m\n\u001b[1;32m   3365\u001b[0m         \u001b[0;32mif\u001b[0m \u001b[0mis_scalar\u001b[0m\u001b[0;34m(\u001b[0m\u001b[0mkey\u001b[0m\u001b[0;34m)\u001b[0m \u001b[0;32mand\u001b[0m \u001b[0misna\u001b[0m\u001b[0;34m(\u001b[0m\u001b[0mkey\u001b[0m\u001b[0;34m)\u001b[0m \u001b[0;32mand\u001b[0m \u001b[0;32mnot\u001b[0m \u001b[0mself\u001b[0m\u001b[0;34m.\u001b[0m\u001b[0mhasnans\u001b[0m\u001b[0;34m:\u001b[0m\u001b[0;34m\u001b[0m\u001b[0;34m\u001b[0m\u001b[0m\n",
      "\u001b[0;31mKeyError\u001b[0m: 'Alpha-galactosidase enzyme (Beano)'"
     ]
    }
   ],
   "source": [
    "calories = A_full.dot(solution.x).astype(int)['Calories (kcal)']\n",
    "weight = recipe['Quantity (g)']['Total'] - recipe['Quantity (g)']['Vitamin K'] - recipe['Quantity (g)']['Alpha-galactosidase enzyme (Beano)'] - recipe['Quantity (g)']['Multivitamin'] - recipe['Quantity (g)']['Calcium and vitamin D'] \n",
    "cal_by_100g = int(calories / weight * 100.)\n",
    "'Calories per 100 g:', cal_by_100g"
   ]
  },
  {
   "cell_type": "code",
   "execution_count": 46,
   "metadata": {},
   "outputs": [
    {
     "data": {
      "text/plain": [
       "('Volume of 1/7 of pitcher:', 285.7142857142857)"
      ]
     },
     "execution_count": 46,
     "metadata": {},
     "output_type": "execute_result"
    }
   ],
   "source": [
    "'Volume of 1/7 of pitcher:', 2000 / 7"
   ]
  },
  {
   "cell_type": "code",
   "execution_count": 67,
   "metadata": {},
   "outputs": [
    {
     "ename": "NameError",
     "evalue": "name 'cal_by_100g' is not defined",
     "output_type": "error",
     "traceback": [
      "\u001b[0;31m---------------------------------------------------------------------------\u001b[0m",
      "\u001b[0;31mNameError\u001b[0m                                 Traceback (most recent call last)",
      "\u001b[0;32m/tmp/ipykernel_165698/413512805.py\u001b[0m in \u001b[0;36m<module>\u001b[0;34m\u001b[0m\n\u001b[1;32m      1\u001b[0m \u001b[0mmeal\u001b[0m \u001b[0;34m=\u001b[0m \u001b[0mpd\u001b[0m\u001b[0;34m.\u001b[0m\u001b[0mDataFrame\u001b[0m\u001b[0;34m.\u001b[0m\u001b[0mfrom_dict\u001b[0m\u001b[0;34m(\u001b[0m\u001b[0;34m{\u001b[0m\u001b[0;34m'Calories (kcal)'\u001b[0m\u001b[0;34m:\u001b[0m \u001b[0mrange\u001b[0m\u001b[0;34m(\u001b[0m\u001b[0;36m1000\u001b[0m\u001b[0;34m,\u001b[0m \u001b[0;36m2600\u001b[0m\u001b[0;34m,\u001b[0m \u001b[0;36m100\u001b[0m\u001b[0;34m)\u001b[0m\u001b[0;34m}\u001b[0m\u001b[0;34m)\u001b[0m\u001b[0;34m\u001b[0m\u001b[0;34m\u001b[0m\u001b[0m\n\u001b[0;32m----> 2\u001b[0;31m \u001b[0mmeal\u001b[0m\u001b[0;34m[\u001b[0m\u001b[0;34m'Measure (g)'\u001b[0m\u001b[0;34m]\u001b[0m \u001b[0;34m=\u001b[0m \u001b[0mround\u001b[0m\u001b[0;34m(\u001b[0m\u001b[0mmeal\u001b[0m\u001b[0;34m[\u001b[0m\u001b[0;34m'Calories (kcal)'\u001b[0m\u001b[0;34m]\u001b[0m \u001b[0;34m/\u001b[0m \u001b[0mcal_by_100g\u001b[0m \u001b[0;34m*\u001b[0m \u001b[0;36m100\u001b[0m\u001b[0;34m)\u001b[0m\u001b[0;34m\u001b[0m\u001b[0;34m\u001b[0m\u001b[0m\n\u001b[0m\u001b[1;32m      3\u001b[0m \u001b[0mprint\u001b[0m\u001b[0;34m(\u001b[0m\u001b[0;34m'Amount to measure daily for calorie goal: '\u001b[0m\u001b[0;34m)\u001b[0m\u001b[0;34m\u001b[0m\u001b[0;34m\u001b[0m\u001b[0m\n\u001b[1;32m      4\u001b[0m \u001b[0mmeal\u001b[0m\u001b[0;34m\u001b[0m\u001b[0;34m\u001b[0m\u001b[0m\n",
      "\u001b[0;31mNameError\u001b[0m: name 'cal_by_100g' is not defined"
     ]
    }
   ],
   "source": [
    "meal = pd.DataFrame.from_dict({'Calories (kcal)': range(1000, 2600, 100)})\n",
    "meal['Measure (g)'] = round(meal['Calories (kcal)'] / cal_by_100g * 100)\n",
    "print('Amount to measure daily for calorie goal: ')\n",
    "meal"
   ]
  },
  {
   "cell_type": "code",
   "execution_count": null,
   "metadata": {},
   "outputs": [],
   "source": []
  }
 ],
 "metadata": {
  "kernelspec": {
   "display_name": "Python 3 (ipykernel)",
   "language": "python",
   "name": "python3"
  },
  "language_info": {
   "codemirror_mode": {
    "name": "ipython",
    "version": 3
   },
   "file_extension": ".py",
   "mimetype": "text/x-python",
   "name": "python",
   "nbconvert_exporter": "python",
   "pygments_lexer": "ipython3",
   "version": "3.9.7"
  }
 },
 "nbformat": 4,
 "nbformat_minor": 4
}
