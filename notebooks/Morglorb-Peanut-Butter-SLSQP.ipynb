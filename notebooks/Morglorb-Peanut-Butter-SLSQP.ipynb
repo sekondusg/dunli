{
 "cells": [
  {
   "cell_type": "markdown",
   "metadata": {},
   "source": [
    "# Introduction\n",
    "\n",
    "This Morglorb recipe uses groupings of ingredients to try to cover nutritional requirements with enough overlap that a single ingredient with quality issues does not cause a failure for the whole recipe. An opimizer is used to find the right amount of each ingredient to fulfill the nutritional and practical requirements.\n",
    "\n",
    "# To Do\n",
    "\n",
    "* Nutrients without an upper limit should have the upper limit constraint removed\n",
    "* Add constraints for the NIH essential protein combinations as a limit\n",
    "* Add a radar graph for vitamins showing the boundry between RDI and UL\n",
    "* Add a radar graph for vitamins without an upper limit but showing the RDI\n",
    "* Add a radar graph for essential proteins showing the range between RDI and UL\n",
    "* Add a radar graph for essential proteins without an upper limit, but showing the RDI as the lower limit\n",
    "* Add a radar graph pair for non-essential proteins with the above UL and no UL pairing\n",
    "* Add equality constraints for at least energy, and macro nutrients if possible"
   ]
  },
  {
   "cell_type": "code",
   "execution_count": 1,
   "metadata": {},
   "outputs": [],
   "source": [
    "# Import all of the helper libraries \n",
    "\n",
    "from scipy.optimize import minimize\n",
    "from scipy.optimize import Bounds\n",
    "from scipy.optimize import least_squares, lsq_linear, dual_annealing, minimize\n",
    "import pandas as pd\n",
    "import numpy as np\n",
    "import os\n",
    "import json\n",
    "from math import e, log, log10\n",
    "import matplotlib.pyplot as plt\n",
    "import seaborn as sns\n",
    "from ipysheet import from_dataframe, to_dataframe"
   ]
  },
  {
   "cell_type": "code",
   "execution_count": 2,
   "metadata": {},
   "outputs": [],
   "source": [
    "#!pip install seaborn\n",
    "#!pip install ipysheet\n",
    "#!pip install ipywidgets"
   ]
  },
  {
   "cell_type": "code",
   "execution_count": 3,
   "metadata": {},
   "outputs": [],
   "source": [
    "# Setup the notebook context\n",
    "\n",
    "data_dir = '../data'\n",
    "pd.set_option('max_columns', 70)"
   ]
  },
  {
   "cell_type": "markdown",
   "metadata": {},
   "source": [
    "# Our Data\n",
    "\n",
    "The [tables](https://docs.google.com/spreadsheets/d/104Y7kH4OzmfsM-v2MSEoc7cIgv0aAMT2sQLAmgkx8R8/edit#gid=442191411) containing our ingredients nutrition profile are held in Google Sheets.\n",
    "The sheet names are \"Ingredients\" and \"Nutrition Profile\""
   ]
  },
  {
   "cell_type": "code",
   "execution_count": 4,
   "metadata": {},
   "outputs": [
    {
     "name": "stdout",
     "output_type": "stream",
     "text": [
      "Tokenization took: 0.04 ms\n",
      "Type conversion took: 1.01 ms\n",
      "Parser memory cleanup took: 0.00 ms\n",
      "Tokenization took: 0.06 ms\n",
      "Type conversion took: 1.29 ms\n",
      "Parser memory cleanup took: 0.01 ms\n"
     ]
    }
   ],
   "source": [
    "# Download our nutrition profile data from Google Sheets\n",
    "\n",
    "google_spreadsheet_url = 'https://docs.google.com/spreadsheets/d/104Y7kH4OzmfsM-v2MSEoc7cIgv0aAMT2sQLAmgkx8R8/export?format=csv&id=104Y7kH4OzmfsM-v2MSEoc7cIgv0aAMT2sQLAmgkx8R8'\n",
    "nutrition_tab = '624419712'\n",
    "ingredient_tab = '1812860789'\n",
    "nutrition_tab_url = f'{google_spreadsheet_url}&gid={nutrition_tab}'\n",
    "ingredient_tab_url = f'{google_spreadsheet_url}&gid={ingredient_tab}'\n",
    "\n",
    "nutrition_profile_df = pd.read_csv(nutrition_tab_url, index_col=0, verbose=True)\n",
    "for col in ['RDI', 'UL', 'Target Scale', 'Target', 'Weight']:\n",
    "    nutrition_profile_df[col] = nutrition_profile_df[col].astype(float)\n",
    "nutrition_profile_df = nutrition_profile_df.transpose()\n",
    "\n",
    "ingredients_df = pd.read_csv(ingredient_tab_url, index_col=0, verbose=True).transpose()\n",
    "\n",
    "# convert all values to float\n",
    "for col in ingredients_df.columns:\n",
    "    ingredients_df[col] = ingredients_df[col].astype(float)"
   ]
  },
  {
   "cell_type": "markdown",
   "metadata": {},
   "source": [
    "# Problem Setup\n",
    "\n",
    "Let's cast our data into the from $\\vec{y} = A \\vec{x} + \\vec{b}$ where $A$ is our ingredients data, $\\vec{x}$ is the quantity of each ingredient for our recipe, and $\\vec{b}$ is the nutrition profile.\n",
    "The problem to be solved is to find the quantity of each ingredient which will optimally satisfy the nutrition profile, or in our model, to minimize: $|A \\vec{x} - \\vec{b}|$.\n",
    "\n",
    "There are some nutrients we only want to track, but not optimize. For example, we want to know how much cholesterol is contained in our recipe, but we don't want to constrain our result to obtain a specific amount of cholesterol as a goal. The full list of ingredients are named: A_full, and b_full. The values to optimized are named: A and b"
   ]
  },
  {
   "cell_type": "code",
   "execution_count": 5,
   "metadata": {},
   "outputs": [],
   "source": [
    "b_full = nutrition_profile_df\n",
    "A_full = ingredients_df.transpose()\n",
    "A = ingredients_df.transpose()[nutrition_profile_df.loc['Report Only'] == False].astype(float)\n",
    "\n",
    "b_full = nutrition_profile_df.loc['Target']\n",
    "b = nutrition_profile_df.loc['Target'][nutrition_profile_df.loc['Report Only'] == False].astype(float)\n",
    "ul = nutrition_profile_df.loc['UL'][nutrition_profile_df.loc['Report Only'] == False].astype(float)\n",
    "rdi = nutrition_profile_df.loc['RDI'][nutrition_profile_df.loc['Report Only'] == False].astype(float)\n",
    "weight = nutrition_profile_df.loc['Weight'][nutrition_profile_df.loc['Report Only'] == False]\n",
    "ul_full = nutrition_profile_df.loc['UL']\n",
    "rdi_full = nutrition_profile_df.loc['RDI']"
   ]
  },
  {
   "cell_type": "code",
   "execution_count": 6,
   "metadata": {},
   "outputs": [],
   "source": [
    "# Constrain ingredients before the optimization process. Many of the ingredients are required for non-nutritional purposes \n",
    "# or are being limited to enhance flavor\n",
    "#\n",
    "# The bounds units are in fractions of 100g / day, i.e.: 0.5 represents 50g / day, of the ingredient\n",
    "\n",
    "#bounds_df = pd.DataFrame(index=ingredients_df.index, data={'lower': 0.0, 'upper': np.inf})\n",
    "bounds_df = pd.DataFrame(index=ingredients_df.index, data={'lower': 0.0, 'upper': 1.0e6})\n",
    "bounds_df.loc['Guar gum'] = [1.5 * .01, 1.5 * .01 + .0001]\n",
    "bounds_df.loc['Xanthan Gum'] = [1.5 * .01, 1.5 * .01 + .0001]\n",
    "bounds_df.loc['Alpha-galactosidase enzyme (Beano)'] = [1.0, 1.0 + .0001]\n",
    "bounds_df.loc['Multivitamin'] = [1.0, 1.0 + .0001]\n",
    "bounds_df.loc['Corn flour, nixtamalized'] = [0, 1.0]\n",
    "bounds_df.loc['Whey protein'] = [0.0,0.15]\n",
    "bounds_df.loc['Ascorbic acid'] = [0.01, 0.01 + .0001]\n",
    "bounds_df.loc['Peanut butter'] = [0.70, 5.0]\n",
    "bounds_df.loc['Wheat bran, crude'] = [0.5, 5.0]\n",
    "bounds_df.loc['Flaxseed, fresh ground'] = [0.25, 5.0]\n",
    "bounds_df.loc['Choline Bitartrate'] = [0.0, 0.05]\n",
    "bounds_df.loc['Potassium chloride'] = [0.0, 0.15]\n",
    "lower = bounds_df.lower.values\n",
    "upper = bounds_df.upper.values\n",
    "lower.shape, upper.shape\n",
    "x0 = np.array(lower)\n",
    "bounds = pd.DataFrame( data = {'lower': lower, 'upper': upper}, dtype=float)"
   ]
  },
  {
   "cell_type": "code",
   "execution_count": 7,
   "metadata": {},
   "outputs": [],
   "source": [
    "a = 100.; b = 2.; c = a; k = 10\n",
    "a = 20.; b = 2.; c = a; k = 10\n",
    "a = 10.; b = 0.1 ; c = a; k = 5\n",
    "#u0 = (rdi + np.log(rdi)); u0.name = 'u0'\n",
    "#u0 = rdi * (1 + log(a))\n",
    "u0 = rdi / (1 - log(k) / a)\n",
    "u1 = ul / (log(k) / c + 1)\n",
    "#u1 = ul - np.log(ul); u1.name = 'u1'\n",
    "\n",
    "#u = pd.concat([limits, pd.Series(y0,scale_limits.index, name='y0')], axis=1)\n",
    "\n",
    "def obj(x):\n",
    "    y0 = A.dot(x.transpose())\n",
    "    obj_vec = (np.exp(a * (u0 - y0)/u0) + np.exp(b * (y0 - u0)/u0) + np.nan_to_num(np.exp(c * (y0 - u1)/u1))) * weight\n",
    "    #print(f'obj_vec: {obj_vec[0]}, y0: {y0[0]}, u0: {u0[0]}')\n",
    "    return(np.sum(obj_vec))\n",
    "  \n",
    "#rdi[26], u0[26], u1[26], ul[26]\n",
    "#rdi[0:5], u0[0:5], u1[0:5], ul[0:5]\n",
    "#np.log(rdi)[26]\n",
    "#u1\n"
   ]
  },
  {
   "cell_type": "code",
   "execution_count": 17,
   "metadata": {},
   "outputs": [
    {
     "name": "stderr",
     "output_type": "stream",
     "text": [
      "/home/dennis/anaconda3/envs/dunli/lib/python3.7/site-packages/pandas/core/arraylike.py:358: RuntimeWarning: overflow encountered in exp\n",
      "  result = getattr(ufunc, method)(*inputs, **kwargs)\n"
     ]
    },
    {
     "data": {
      "text/plain": [
       "True"
      ]
     },
     "execution_count": 17,
     "metadata": {},
     "output_type": "execute_result"
    }
   ],
   "source": [
    "solution = minimize(obj, x0, method='SLSQP', bounds=list(zip(lower, upper)), options = {'maxiter': 1000})\n",
    "solution.success"
   ]
  },
  {
   "cell_type": "code",
   "execution_count": 18,
   "metadata": {},
   "outputs": [
    {
     "data": {
      "text/plain": [
       "Calories (kcal)         1972\n",
       "Carbohydrates (g)        286\n",
       "Protein (g)              105\n",
       "Total Fat (g)             64\n",
       "Saturated Fat (g)         11\n",
       "                       ...  \n",
       "Glutamic acid (mg)     22592\n",
       "Glycine (mg)            4758\n",
       "Proline (mg)            7440\n",
       "Serine (mg)             5141\n",
       "Hydroxyproline (mg)      219\n",
       "Length: 61, dtype: int64"
      ]
     },
     "execution_count": 18,
     "metadata": {},
     "output_type": "execute_result"
    }
   ],
   "source": [
    "A_full.dot(solution.x).astype(int)"
   ]
  },
  {
   "cell_type": "code",
   "execution_count": 19,
   "metadata": {},
   "outputs": [],
   "source": [
    "# Scale the ingredient nutrient amounts for the given quantity of each ingredient given by the optimizer\n",
    "solution_df = A_full.transpose().mul(solution.x, axis=0) # Scale each nutrient vector per ingredient by the amount of the ingredient\n",
    "solution_df.insert(0, 'Quantity (g)', solution.x * 100) # Scale to 100 g since that is basis for the nutrient quantities\n",
    "\n",
    "# Add a row showing the sum of the scaled amount of each nutrient\n",
    "total = solution_df.sum()\n",
    "total.name = 'Total'\n",
    "solution_df = solution_df.append(total)"
   ]
  },
  {
   "cell_type": "code",
   "execution_count": 20,
   "metadata": {},
   "outputs": [
    {
     "data": {
      "image/png": "[encoded data removed]",
      "text/plain": [
       "<Figure size 720x360 with 2 Axes>"
      ]
     },
     "metadata": {
      "needs_background": "light"
     },
     "output_type": "display_data"
    }
   ],
   "source": [
    "# Plot the macro nutrient profile\n",
    "# The ratio of Calories for protein:carbohydrates:fat is 4:4:9 kcal/g\n",
    "pc = solution_df['Protein (g)']['Total'] * 4.0\n",
    "cc = solution_df['Carbohydrates (g)']['Total'] * 4.0\n",
    "fc = solution_df['Total Fat (g)']['Total'] * 9.0\n",
    "tc = pc + cc + fc\n",
    "p_pct = int(round(pc / tc * 100))\n",
    "c_pct = int(round(cc / tc * 100))\n",
    "f_pct = int(round(fc / tc * 100))\n",
    "(p_pct, c_pct, f_pct)\n",
    "# create data\n",
    "names=f'Protein {p_pct}%', f'Carbohydrates {c_pct}%', f'Fat {f_pct}%', \n",
    "size=[p_pct, c_pct, f_pct]\n",
    " \n",
    "fig = plt.figure(figsize=(10, 5))\n",
    "\n",
    "fig.add_subplot(1,2,1)\n",
    "# Create a circle for the center of the plot\n",
    "my_circle=plt.Circle( (0,0), 0.5, color='white')\n",
    "\n",
    "# Give color names\n",
    "cmap = plt.get_cmap('Spectral')\n",
    "sm = plt.cm.ScalarMappable(cmap=cmap)\n",
    "colors = ['yellow','orange','red']\n",
    "plt.pie(size, labels=names, colors=colors)\n",
    "\n",
    "#p=plt.gcf()\n",
    "#p.gca().add_artist(my_circle)\n",
    "fig.gca().add_artist(my_circle)\n",
    "#plt.show()\n",
    "\n",
    "fig.add_subplot(1,2,2)\n",
    "barWidth = 1\n",
    "fs = [solution_df['Soluble Fiber (g)']['Total']]\n",
    "fi = [solution_df['Insoluble Fiber (g)']['Total']]\n",
    "plt.bar([0], fs, color='red', edgecolor='white', width=barWidth, label=['Soluble Fiber (g)'])\n",
    "plt.bar([0], fi, bottom=fs, color='yellow', edgecolor='white', width=barWidth, label=['Insoluble Fiber (g)'])\n",
    "plt.show()\n",
    "# Also show the Omega-3, Omega-6 ratio\n",
    "# Saturated:Monounsaturated:Polyunsaturated ratios"
   ]
  },
  {
   "cell_type": "code",
   "execution_count": 21,
   "metadata": {},
   "outputs": [],
   "source": [
    "# Prepare data as a whole for plotting by normalizing and scaling\n",
    "amounts = solution_df\n",
    "total = A_full.dot(solution.x) #solution_df.loc['Total']\n",
    "\n",
    "# Normalize as a ratio beyond RDI\n",
    "norm = (total) / rdi_full\n",
    "norm_ul = (ul_full) / rdi_full\n",
    "\n",
    "nuts = pd.concat([pd.Series(norm.values, name='value'), pd.Series(norm.index, name='name')], axis=1)"
   ]
  },
  {
   "cell_type": "code",
   "execution_count": 22,
   "metadata": {},
   "outputs": [],
   "source": [
    "# Setup categories of nutrients and a common plotting function\n",
    "vitamins = ['Vitamin A (IU)','Vitamin B6 (mg)','Vitamin B12 (ug)','Vitamin C (mg)','Vitamin D (IU)',\n",
    "            'Vitamin E (IU)','Vitamin K (ug)','Thiamin (mg)','Riboflavin (mg)','Niacin (mg)','Folate (ug)','Pantothenic Acid (mg)','Biotin (ug)','Choline (mg)']\n",
    "minerals = ['Calcium (g)','Chloride (g)','Chromium (ug)','Copper (mg)','Iodine (ug)','Iron (mg)',\n",
    "            'Magnesium (mg)','Manganese (mg)','Molybdenum (ug)','Phosphorus (g)','Potassium (g)','Selenium (ug)','Sodium (g)','Sulfur (g)','Zinc (mg)']\n",
    "essential_aminoacids = ['Cystine (mg)','Histidine (mg)','Isoleucine (mg)','Leucine (mg)','Lysine (mg)',\n",
    "                        'Methionine (mg)','Phenylalanine (mg)','Threonine (mg)','Tryptophan (mg)','Valine (mg)']\n",
    "other_aminoacids = ['Tyrosine (mg)','Arginine (mg)','Alanine (mg)','Aspartic acid (mg)','Glutamic acid (mg)','Glycine (mg)','Proline (mg)','Serine (mg)','Hydroxyproline (mg)']\n",
    "\n",
    "def plot_group(nut_names, title):\n",
    "    nut_names_short = [s.split(' (')[0] for s in nut_names] # Snip off the units from the nutrient names\n",
    "    \n",
    "    # Create a bar to indicate an upper limit \n",
    "    ul_bar = (norm_ul * 1.04)[nut_names]\n",
    "    ul_bar[ul_full[nut_names].isnull() == True] = 0\n",
    "    \n",
    "    # Create a bar to mask the UL bar so just the end is exposed\n",
    "    ul_mask = norm_ul[nut_names]\n",
    "    ul_mask[ul_full[nut_names].isnull() == True] = 0\n",
    "    \n",
    "    \n",
    "    n = []  # normalized values for each bar\n",
    "    for x, mx in zip(norm[nut_names], ul_mask.values):\n",
    "        if mx == 0: # no upper limit\n",
    "            if x < 1.0:\n",
    "                n.append(1.0 - (x / 2.0))\n",
    "            else:\n",
    "                n.append(0.50)\n",
    "        else:\n",
    "            n.append(1.0 - (log10(x) / log10(mx)))\n",
    "    clrs = sm.to_rgba(n, norm=False)\n",
    "    \n",
    "    g = sns.barplot(x=ul_bar.values, y=nut_names_short, color='red')\n",
    "    g.set_xscale('log')\n",
    "    sns.barplot(x=ul_mask.values, y=nut_names_short, color='white')\n",
    "    bax = sns.barplot(x=norm[nut_names], y=nut_names_short, label=\"Total\", palette=clrs)\n",
    "    \n",
    "    # Add a legend and informative axis label\n",
    "    g.set( ylabel=\"\",xlabel=\"Nutrient Mass / RDI (Red Band is UL)\", title=title)\n",
    "\n",
    "    #sns.despine(left=True, bottom=True)"
   ]
  },
  {
   "cell_type": "code",
   "execution_count": 23,
   "metadata": {},
   "outputs": [
    {
     "data": {
      "image/png": "[encoded data removed]",
      "text/plain": [
       "<Figure size 1440x1440 with 4 Axes>"
      ]
     },
     "metadata": {
      "needs_background": "light"
     },
     "output_type": "display_data"
    }
   ],
   "source": [
    "# Construct a group of bar charts for each nutrient group\n",
    "\n",
    "# Setup the colormap for each bar\n",
    "cmap = plt.get_cmap('Spectral')\n",
    "sm = plt.cm.ScalarMappable(cmap=cmap)\n",
    "\n",
    "#fig = plt.figure(figsize=plt.figaspect(3.))\n",
    "fig = plt.figure(figsize=(20, 20))\n",
    "fig.add_subplot(4, 1, 1)\n",
    "plot_group(vitamins,'Vitamin amounts relative to RDI')\n",
    "fig.add_subplot(4, 1, 2)\n",
    "plot_group(minerals,'Mineral amounts relative to RDI')\n",
    "fig.add_subplot(4, 1, 3)\n",
    "plot_group(essential_aminoacids,'Essential amino acid amounts relative to RDI')\n",
    "fig.add_subplot(4, 1, 4)\n",
    "plot_group(other_aminoacids,'Other amino acid amounts relative to RDI')\n",
    "\n",
    "#fig.show()\n",
    "fig.tight_layout()"
   ]
  },
  {
   "cell_type": "code",
   "execution_count": 24,
   "metadata": {},
   "outputs": [
    {
     "data": {
      "text/html": [
       "<div>\n",
       "<style scoped>\n",
       "    .dataframe tbody tr th:only-of-type {\n",
       "        vertical-align: middle;\n",
       "    }\n",
       "\n",
       "    .dataframe tbody tr th {\n",
       "        vertical-align: top;\n",
       "    }\n",
       "\n",
       "    .dataframe thead th {\n",
       "        text-align: right;\n",
       "    }\n",
       "</style>\n",
       "<table border=\"1\" class=\"dataframe\">\n",
       "  <thead>\n",
       "    <tr style=\"text-align: right;\">\n",
       "      <th></th>\n",
       "      <th>Ingredient</th>\n",
       "      <th>Quantity (g)</th>\n",
       "    </tr>\n",
       "  </thead>\n",
       "  <tbody>\n",
       "    <tr>\n",
       "      <th>0</th>\n",
       "      <td>Guar gum</td>\n",
       "      <td>1.51</td>\n",
       "    </tr>\n",
       "    <tr>\n",
       "      <th>1</th>\n",
       "      <td>Vitamin K</td>\n",
       "      <td>34.65</td>\n",
       "    </tr>\n",
       "    <tr>\n",
       "      <th>2</th>\n",
       "      <td>Peanut butter</td>\n",
       "      <td>70.00</td>\n",
       "    </tr>\n",
       "    <tr>\n",
       "      <th>3</th>\n",
       "      <td>Oat flour</td>\n",
       "      <td>9.14</td>\n",
       "    </tr>\n",
       "    <tr>\n",
       "      <th>4</th>\n",
       "      <td>Choline Bitartrate</td>\n",
       "      <td>5.00</td>\n",
       "    </tr>\n",
       "    <tr>\n",
       "      <th>5</th>\n",
       "      <td>Wheat bran, crude</td>\n",
       "      <td>82.74</td>\n",
       "    </tr>\n",
       "    <tr>\n",
       "      <th>6</th>\n",
       "      <td>Lecithin granules</td>\n",
       "      <td>1.75</td>\n",
       "    </tr>\n",
       "    <tr>\n",
       "      <th>7</th>\n",
       "      <td>Alpha-galactosidase enzyme (Beano)</td>\n",
       "      <td>100.00</td>\n",
       "    </tr>\n",
       "    <tr>\n",
       "      <th>8</th>\n",
       "      <td>Canola oil</td>\n",
       "      <td>0.00</td>\n",
       "    </tr>\n",
       "    <tr>\n",
       "      <th>9</th>\n",
       "      <td>Pea Protein Powder</td>\n",
       "      <td>7.92</td>\n",
       "    </tr>\n",
       "    <tr>\n",
       "      <th>10</th>\n",
       "      <td>Multivitamin</td>\n",
       "      <td>100.01</td>\n",
       "    </tr>\n",
       "    <tr>\n",
       "      <th>11</th>\n",
       "      <td>Corn flour, nixtamalized</td>\n",
       "      <td>0.00</td>\n",
       "    </tr>\n",
       "    <tr>\n",
       "      <th>12</th>\n",
       "      <td>Soy protein isolate</td>\n",
       "      <td>20.42</td>\n",
       "    </tr>\n",
       "    <tr>\n",
       "      <th>13</th>\n",
       "      <td>Ascorbic acid</td>\n",
       "      <td>1.00</td>\n",
       "    </tr>\n",
       "    <tr>\n",
       "      <th>14</th>\n",
       "      <td>Barley flour</td>\n",
       "      <td>256.52</td>\n",
       "    </tr>\n",
       "    <tr>\n",
       "      <th>15</th>\n",
       "      <td>Whey protein</td>\n",
       "      <td>15.00</td>\n",
       "    </tr>\n",
       "    <tr>\n",
       "      <th>16</th>\n",
       "      <td>Salt, iodized</td>\n",
       "      <td>2.92</td>\n",
       "    </tr>\n",
       "    <tr>\n",
       "      <th>17</th>\n",
       "      <td>Calcium and vitamin D</td>\n",
       "      <td>153.88</td>\n",
       "    </tr>\n",
       "    <tr>\n",
       "      <th>18</th>\n",
       "      <td>Xanthan Gum</td>\n",
       "      <td>1.51</td>\n",
       "    </tr>\n",
       "    <tr>\n",
       "      <th>19</th>\n",
       "      <td>Potassium chloride</td>\n",
       "      <td>8.93</td>\n",
       "    </tr>\n",
       "    <tr>\n",
       "      <th>20</th>\n",
       "      <td>Flaxseed, fresh ground</td>\n",
       "      <td>51.97</td>\n",
       "    </tr>\n",
       "    <tr>\n",
       "      <th>21</th>\n",
       "      <td>Total</td>\n",
       "      <td>924.86</td>\n",
       "    </tr>\n",
       "  </tbody>\n",
       "</table>\n",
       "</div>"
      ],
      "text/plain": [
       "                            Ingredient  Quantity (g)\n",
       "0                             Guar gum          1.51\n",
       "1                            Vitamin K         34.65\n",
       "2                        Peanut butter         70.00\n",
       "3                            Oat flour          9.14\n",
       "4                   Choline Bitartrate          5.00\n",
       "5                    Wheat bran, crude         82.74\n",
       "6                    Lecithin granules          1.75\n",
       "7   Alpha-galactosidase enzyme (Beano)        100.00\n",
       "8                           Canola oil          0.00\n",
       "9                   Pea Protein Powder          7.92\n",
       "10                        Multivitamin        100.01\n",
       "11            Corn flour, nixtamalized          0.00\n",
       "12                 Soy protein isolate         20.42\n",
       "13                       Ascorbic acid          1.00\n",
       "14                        Barley flour        256.52\n",
       "15                        Whey protein         15.00\n",
       "16                       Salt, iodized          2.92\n",
       "17               Calcium and vitamin D        153.88\n",
       "18                         Xanthan Gum          1.51\n",
       "19                  Potassium chloride          8.93\n",
       "20              Flaxseed, fresh ground         51.97\n",
       "21                               Total        924.86"
      ]
     },
     "execution_count": 24,
     "metadata": {},
     "output_type": "execute_result"
    }
   ],
   "source": [
    "#solu_amount = (solution_df['Quantity (g)'] * 14).astype(int)\n",
    "pd.options.display.float_format = \"{:,.2f}\".format\n",
    "solu_amount = solution_df['Quantity (g)']\n",
    "solu_amount.index.name = 'Ingredient'\n",
    "solu_amount.reset_index()"
   ]
  },
  {
   "cell_type": "code",
   "execution_count": null,
   "metadata": {},
   "outputs": [],
   "source": []
  },
  {
   "cell_type": "code",
   "execution_count": null,
   "metadata": {},
   "outputs": [],
   "source": []
  }
 ],
 "metadata": {
  "kernelspec": {
   "display_name": "Python 3",
   "language": "python",
   "name": "python3"
  },
  "language_info": {
   "codemirror_mode": {
    "name": "ipython",
    "version": 3
   },
   "file_extension": ".py",
   "mimetype": "text/x-python",
   "name": "python",
   "nbconvert_exporter": "python",
   "pygments_lexer": "ipython3",
   "version": "3.7.10"
  }
 },
 "nbformat": 4,
 "nbformat_minor": 4
}
