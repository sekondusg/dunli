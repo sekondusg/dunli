{
 "cells": [
  {
   "cell_type": "markdown",
   "metadata": {},
   "source": [
    "# Introduction\n",
    "\n",
    "The Ugrainium recipe uses groupings of ingredients to try to cover nutritional requirements with enough overlap that a single ingredient with quality issues does not cause a failure for the whole recipe. A opimizer is used to find the right amount of each ingredient to fulfill the nutritional and practicle requirements for a recipe.\n",
    "\n",
    "# To Do\n",
    "\n",
    "* Nutrients without an upper limit should have the upper limit constraint removed\n",
    "* Add constraints for the NIH essential protein combinations as a limit\n",
    "* Add a radar graph for vitamins showing the boundry between RDI and UL\n",
    "* Add a radar graph for vitamins without an upper limit but showing the RDI\n",
    "* Add a radar graph for essential proteins showing the range between RDI and UL\n",
    "* Add a radar graph for essential proteins without an upper limit, but showing the RDI as the lower limit\n",
    "* Add a radar graph pair for non-essential proteins with the above UL and no UL pairing\n",
    "* Add equality constraints for at least energy, and macro nutrients if possible"
   ]
  },
  {
   "cell_type": "code",
   "execution_count": 1,
   "metadata": {},
   "outputs": [],
   "source": [
    "# Import all of the helper libraries \n",
    "\n",
    "from scipy.optimize import minimize\n",
    "from scipy.optimize import Bounds\n",
    "from scipy.optimize import least_squares\n",
    "import pandas as pd\n",
    "import numpy as np\n",
    "import os\n",
    "import json\n",
    "from math import e\n",
    "import matplotlib.pyplot as plt\n",
    "import seaborn as sns\n",
    "from math import log10\n",
    "%matplotlib inline"
   ]
  },
  {
   "cell_type": "code",
   "execution_count": 2,
   "metadata": {},
   "outputs": [],
   "source": [
    "#!pip install seaborn"
   ]
  },
  {
   "cell_type": "code",
   "execution_count": 3,
   "metadata": {},
   "outputs": [],
   "source": [
    "# Setup the notebook context\n",
    "\n",
    "data_dir = '../data'\n",
    "pd.set_option('max_columns', 70)\n"
   ]
  },
  {
   "cell_type": "markdown",
   "metadata": {},
   "source": [
    "# Our Data\n",
    "\n",
    "The [tables](https://docs.google.com/spreadsheets/d/1UOx5ZkNMjcwybx9TgFS_EaQnjbokqDx6K9NW0mRDGlg/edit#gid=6244197120) containing our ingredients nutrition profile are held in Google Sheets.\n",
    "The sheet names are \"Ingredients\" and \"Nutrition Profile\"\n"
   ]
  },
  {
   "cell_type": "code",
   "execution_count": 4,
   "metadata": {},
   "outputs": [
    {
     "name": "stdout",
     "output_type": "stream",
     "text": [
      "curl 'https://docs.google.com/spreadsheets/d/1UOx5ZkNMjcwybx9TgFS_EaQnjbokqDx6K9NW0mRDGlg/export?format=csv&id=1UOx5ZkNMjcwybx9TgFS_EaQnjbokqDx6K9NW0mRDGlg&gid=624419712' > data/raw/nutrition_profile.csv\n",
      "  % Total    % Received % Xferd  Average Speed   Time    Time     Time  Current\n",
      "                                 Dload  Upload   Total   Spent    Left  Speed\n",
      "100  4196    0  4196    0     0   2767      0 --:--:--  0:00:01 --:--:--  2767\n",
      "curl 'https://docs.google.com/spreadsheets/d/1UOx5ZkNMjcwybx9TgFS_EaQnjbokqDx6K9NW0mRDGlg/export?format=csv&id=1UOx5ZkNMjcwybx9TgFS_EaQnjbokqDx6K9NW0mRDGlg&gid=1812860789' > data/raw/ingredients.csv\n",
      "  % Total    % Received % Xferd  Average Speed   Time    Time     Time  Current\n",
      "                                 Dload  Upload   Total   Spent    Left  Speed\n",
      "100  4877    0  4877    0     0  12101      0 --:--:-- --:--:-- --:--:-- 12131\n",
      "Tokenization took: 0.05 ms\n",
      "Type conversion took: 1.68 ms\n",
      "Parser memory cleanup took: 0.01 ms\n",
      "Tokenization took: 0.12 ms\n",
      "Type conversion took: 0.55 ms\n",
      "Parser memory cleanup took: 0.00 ms\n"
     ]
    }
   ],
   "source": [
    "# Download our nutrition profile data from Google Sheets\n",
    "!(cd ..; make sync_data_from_google)\n",
    "\n",
    "nutrition_profile_df = pd.read_csv(f'{data_dir}/raw/nutrition_profile.csv', index_col=0, verbose=True).transpose()\n",
    "ingredients_df = pd.read_csv(f'{data_dir}/raw/ingredients.csv', index_col=0, verbose=True).transpose()\n",
    "\n",
    "# convert all values to float\n",
    "for col in ingredients_df.columns:\n",
    "    ingredients_df[col] = ingredients_df[col].astype(float)"
   ]
  },
  {
   "cell_type": "markdown",
   "metadata": {},
   "source": [
    "# Problem Setup\n",
    "\n",
    "Let's cast our data into the from $\\vec{y} = A \\vec{x} + \\vec{b}$ where $A$ is our ingredients data, $\\vec{x}$ is the quantity of each ingredient for our recipe, and $\\vec{b}$ is the nutrition profile.\n",
    "The problem to be solved is to find the quantity of each ingredient which will optimally satisfy the nutrition profile, or in our model, to minimize: $|A \\vec{x} - \\vec{b}|$.\n",
    "\n",
    "There are some nutrients we only want to track, but not optimize. For example, we want to know how much cholesterol is contained in our recipe, but we don't want to constrain our result to obtain a specific amount of cholesterol as a goal. The full list of ingredients are named: A_full, and b_full. The values to optimized are named: A and b"
   ]
  },
  {
   "cell_type": "code",
   "execution_count": 26,
   "metadata": {},
   "outputs": [],
   "source": [
    "b_full = nutrition_profile_df\n",
    "A_full = ingredients_df.transpose()\n",
    "A = ingredients_df.transpose()[nutrition_profile_df.loc['Report Only'] == False]\n",
    "\n",
    "b_full = nutrition_profile_df.loc['Target']\n",
    "b = nutrition_profile_df.loc['Target'][nutrition_profile_df.loc['Report Only'] == False]\n",
    "ul = nutrition_profile_df.loc['UL'][nutrition_profile_df.loc['Report Only'] == False]\n",
    "rdi = nutrition_profile_df.loc['RDI'][nutrition_profile_df.loc['Report Only'] == False]\n",
    "ul_full = nutrition_profile_df.loc['UL']\n",
    "rdi_full = nutrition_profile_df.loc['RDI']"
   ]
  },
  {
   "cell_type": "markdown",
   "metadata": {},
   "source": [
    "# Least Squares Optimization\n",
    "Start with a simple solver using a least squares optimizer\n"
   ]
  },
  {
   "cell_type": "code",
   "execution_count": 27,
   "metadata": {},
   "outputs": [],
   "source": [
    "# Using the scipy least_squares optimizer\n",
    "# Define a residual function: if y = A x + b -> A x - b is the residual function\n",
    "k_thres = 0.7\n",
    "k_rdi = b - ((rdi - b) * k_thres)\n",
    "k_ul =  b + ((ul - b) * k_thres)\n",
    "\n",
    "def limit_scale(df):\n",
    "    r = (df['y'] - df['b']) /  df['b']\n",
    "    k_thres = 0.7\n",
    "    if df['y'] < df['k_rdi']:\n",
    "        r *= 10\n",
    "        if df['y'] < df['rdi']:\n",
    "            r *= 10\n",
    "    elif df['y'] >= df['b']:\n",
    "        if df['k_ul'] is np.NaN:\n",
    "            return(0.0)\n",
    "        elif df['y'] > df['k_ul']:\n",
    "            r *= 10\n",
    "        if df['y'] > df['ul']:\n",
    "            r *= 10\n",
    "    return(r)\n",
    "\n",
    "scale_limits = pd.DataFrame({'rdi': rdi, 'k_rdi': k_rdi, 'b': b, 'k_ul': k_ul, 'ul': ul})\n",
    "\n",
    "def residuals(x, *args, **kwargs):\n",
    "    y0 = A.dot(x.transpose())\n",
    "    res0 = pd.concat([scale_limits, pd.Series(y0,scale_limits.index, name='y')], axis=1)\n",
    "    res1 = res0.apply(limit_scale, axis=1)\n",
    "    return(res1)"
   ]
  },
  {
   "cell_type": "code",
   "execution_count": 28,
   "metadata": {},
   "outputs": [
    {
     "data": {
      "text/plain": [
       "(20, 20)"
      ]
     },
     "execution_count": 28,
     "metadata": {},
     "output_type": "execute_result"
    }
   ],
   "source": [
    "# Constrain ingredients before the optimization process. Many of the ingredients are required for non-nutritional purposes \n",
    "# or are being limited to enhance flavor\n",
    "\n",
    "bounds_df = pd.DataFrame(index=ingredients_df.index, data={'lower': 0, 'upper': np.inf})             \n",
    "bounds_df.loc['Guar gum'] = [0.9 * .01, 0.9 * .01 + .0001]\n",
    "bounds_df.loc['Xanthan Gum'] = [0.9 * .01, 0.9 * .01 + .0001]\n",
    "bounds_df.loc['Alpha-galactosidase enzyme (Beano)'] = [1.0, 1.0 + .0001]\n",
    "bounds_df.loc['Multivitamin'] = [1.0, 1.0 + .0001]\n",
    "bounds_df.loc['Corn flour, nixtamalized'] = [0, 1.0]\n",
    "bounds_df.loc['Whey protein'] = [0,0.15]\n",
    "bounds_df.loc['Ascorbic acid'] = [0.01, 0.01 + .0001]\n",
    "lower = list(bounds_df.lower.values)\n",
    "upper = list(bounds_df.upper.values)\n",
    "\n",
    "# x0 is our initial guess at a solution\n",
    "x0 = np.array(lower)\n",
    "\n",
    "len(lower), len(upper)"
   ]
  },
  {
   "cell_type": "code",
   "execution_count": 29,
   "metadata": {},
   "outputs": [
    {
     "data": {
      "text/plain": [
       "(True, array([0.00906876, 0.33607804, 0.56299727, 0.00310732, 0.65874327,\n",
       "        0.17196309, 1.        , 0.26720392, 0.43018112, 1.00002817,\n",
       "        0.48332659, 0.46562733, 0.01      , 0.66838733, 0.09157498,\n",
       "        0.03230391, 0.73440365, 0.00908047, 0.20858681, 0.59945334]))"
      ]
     },
     "execution_count": 29,
     "metadata": {},
     "output_type": "execute_result"
    }
   ],
   "source": [
    "solution = least_squares(residuals, x0, jac='2-point', bounds=(lower, upper), method='trf', ftol=1e-08, xtol=1e-08, gtol=1e-08, x_scale=1.0, loss='linear', f_scale=1.0, diff_step=None, tr_solver=None, tr_options={}, jac_sparsity=None, max_nfev=None, verbose=0, args=(), kwargs={})\n",
    "solution.success, solution.x"
   ]
  },
  {
   "cell_type": "code",
   "execution_count": 9,
   "metadata": {},
   "outputs": [
    {
     "data": {
      "text/plain": [
       "Calories (kcal)         1802.239257\n",
       "Carbohydrates (g)        189.954684\n",
       "Protein (g)              128.055228\n",
       "Total Fat (g)             69.999999\n",
       "Saturated Fat (g)         10.113780\n",
       "                           ...     \n",
       "Glutamic acid (mg)     24460.516042\n",
       "Glycine (mg)            5408.777999\n",
       "Proline (mg)            7143.411955\n",
       "Serine (mg)             6327.709555\n",
       "Hydroxyproline (mg)      183.658820\n",
       "Length: 61, dtype: float64"
      ]
     },
     "execution_count": 9,
     "metadata": {},
     "output_type": "execute_result"
    }
   ],
   "source": [
    "A_full.dot(solution.x)"
   ]
  },
  {
   "cell_type": "code",
   "execution_count": 10,
   "metadata": {},
   "outputs": [
    {
     "data": {
      "text/plain": [
       "Index(['Quantity (g)', 'Calories (kcal)', 'Carbohydrates (g)', 'Protein (g)',\n",
       "       'Total Fat (g)', 'Saturated Fat (g)', 'Monounsaturated Fat (g)',\n",
       "       'Polyunsaturated Fat (g)', 'Omega-3 Fatty Acids (g)',\n",
       "       'Omega-6 Fatty Acids (g)', 'Total Fiber (g)', 'Soluble Fiber (g)',\n",
       "       'Insoluble Fiber (g)', 'Cholesterol (mg)', 'Vitamin A (IU)',\n",
       "       'Vitamin B6 (mg)', 'Vitamin B12 (ug)', 'Vitamin C (mg)',\n",
       "       'Vitamin D (IU)', 'Vitamin E (IU)', 'Vitamin K (ug)', 'Thiamin (mg)',\n",
       "       'Riboflavin (mg)', 'Niacin (mg)', 'Folate (ug)',\n",
       "       'Pantothenic Acid (mg)', 'Biotin (ug)', 'Choline (mg)', 'Calcium (g)',\n",
       "       'Chloride (g)', 'Chromium (ug)', 'Copper (mg)', 'Iodine (ug)',\n",
       "       'Iron (mg)', 'Magnesium (mg)', 'Manganese (mg)', 'Molybdenum (ug)',\n",
       "       'Phosphorus (g)', 'Potassium (g)', 'Selenium (ug)', 'Sodium (g)',\n",
       "       'Sulfur (g)', 'Zinc (mg)', 'Cystine (mg)', 'Histidine (mg)',\n",
       "       'Isoleucine (mg)', 'Leucine (mg)', 'Lysine (mg)', 'Methionine (mg)',\n",
       "       'Phenylalanine (mg)', 'Threonine (mg)', 'Tryptophan (mg)',\n",
       "       'Valine (mg)', 'Tyrosine (mg)', 'Arginine (mg)', 'Alanine (mg)',\n",
       "       'Aspartic acid (mg)', 'Glutamic acid (mg)', 'Glycine (mg)',\n",
       "       'Proline (mg)', 'Serine (mg)', 'Hydroxyproline (mg)'],\n",
       "      dtype='object')"
      ]
     },
     "execution_count": 10,
     "metadata": {},
     "output_type": "execute_result"
    }
   ],
   "source": [
    "# Scale the ingredient nutrient amounts for the given quantity of each ingredient given by the optimizer\n",
    "solution_df = A_full.transpose().mul(solution.x, axis=0) # Scale each nutrient vector per ingredient by the amount of the ingredient\n",
    "solution_df.insert(0, 'Quantity (g)', solution.x * 100) # Scale to 100 g since that is basis for the nutrient quantities\n",
    "\n",
    "# Add a row showing the sum of the scaled amount of each nutrient\n",
    "total = solution_df.sum()\n",
    "total.name = 'Total'\n",
    "solution_df = solution_df.append(total)\n",
    "solution_df.transpose().index"
   ]
  },
  {
   "cell_type": "code",
   "execution_count": 11,
   "metadata": {},
   "outputs": [
    {
     "data": {
      "image/png": "[encoded data removed]",
      "text/plain": [
       "<Figure size 432x288 with 1 Axes>"
      ]
     },
     "metadata": {},
     "output_type": "display_data"
    }
   ],
   "source": [
    "# Plot the macro nutrient profile\n",
    "# The ratio of Calories for protein:carbohydrates:fat is 4:4:9 kcal/g\n",
    "pc = solution_df['Protein (g)']['Total'] * 4.0\n",
    "cc = solution_df['Carbohydrates (g)']['Total'] * 4.0\n",
    "fc = solution_df['Total Fat (g)']['Total'] * 9.0\n",
    "tc = pc + cc + fc\n",
    "p_pct = int(round(pc / tc * 100))\n",
    "c_pct = int(round(cc / tc * 100))\n",
    "f_pct = int(round(fc / tc * 100))\n",
    "(p_pct, c_pct, f_pct)\n",
    "# create data\n",
    "names=f'Protein {p_pct}%', f'Carbohydrates {c_pct}%', f'Fat {f_pct}%', \n",
    "size=[p_pct, c_pct, f_pct]\n",
    " \n",
    "# Create a circle for the center of the plot\n",
    "my_circle=plt.Circle( (0,0), 0.5, color='white')\n",
    "\n",
    "# Give color names\n",
    "plt.pie(size, labels=names, colors=['yellow','orange','red'])\n",
    "p=plt.gcf()\n",
    "p.gca().add_artist(my_circle)\n",
    "plt.show()\n",
    "\n",
    "# Also show the Fiber (soluble / insoluble ration) amount \n",
    "# Also show the Omega-3, Omega-6 ratio\n",
    "# Saturated:Monounsaturated:Polyunsaturated ratios"
   ]
  },
  {
   "cell_type": "code",
   "execution_count": 35,
   "metadata": {},
   "outputs": [
    {
     "data": {
      "text/plain": [
       "Index(['Calories (kcal)', 'Carbohydrates (g)', 'Protein (g)', 'Total Fat (g)',\n",
       "       'Saturated Fat (g)', 'Monounsaturated Fat (g)',\n",
       "       'Polyunsaturated Fat (g)', 'Omega-3 Fatty Acids (g)',\n",
       "       'Omega-6 Fatty Acids (g)', 'Total Fiber (g)', 'Soluble Fiber (g)',\n",
       "       'Insoluble Fiber (g)', 'Cholesterol (mg)', 'Vitamin A (IU)',\n",
       "       'Vitamin B6 (mg)', 'Vitamin B12 (ug)', 'Vitamin C (mg)',\n",
       "       'Vitamin D (IU)', 'Vitamin E (IU)', 'Vitamin K (ug)', 'Thiamin (mg)',\n",
       "       'Riboflavin (mg)', 'Niacin (mg)', 'Folate (ug)',\n",
       "       'Pantothenic Acid (mg)', 'Biotin (ug)', 'Choline (mg)', 'Calcium (g)',\n",
       "       'Chloride (g)', 'Chromium (ug)', 'Copper (mg)', 'Iodine (ug)',\n",
       "       'Iron (mg)', 'Magnesium (mg)', 'Manganese (mg)', 'Molybdenum (ug)',\n",
       "       'Phosphorus (g)', 'Potassium (g)', 'Selenium (ug)', 'Sodium (g)',\n",
       "       'Sulfur (g)', 'Zinc (mg)', 'Cystine (mg)', 'Histidine (mg)',\n",
       "       'Isoleucine (mg)', 'Leucine (mg)', 'Lysine (mg)', 'Methionine (mg)',\n",
       "       'Phenylalanine (mg)', 'Threonine (mg)', 'Tryptophan (mg)',\n",
       "       'Valine (mg)', 'Tyrosine (mg)', 'Arginine (mg)', 'Alanine (mg)',\n",
       "       'Aspartic acid (mg)', 'Glutamic acid (mg)', 'Glycine (mg)',\n",
       "       'Proline (mg)', 'Serine (mg)', 'Hydroxyproline (mg)'],\n",
       "      dtype='object')"
      ]
     },
     "execution_count": 35,
     "metadata": {},
     "output_type": "execute_result"
    }
   ],
   "source": [
    "# Prepare data as a whole for plotting by normalizing and scaling\n",
    "amounts = solution_df\n",
    "total = A_full.dot(solution.x) #solution_df.loc['Total']\n",
    "\n",
    "# Normalize as a percent beyond RDI\n",
    "#norm = (total - rdi) / rdi * 100\n",
    "#norm_ul = (ul - rdi) / rdi * 100\n",
    "norm = (total) / rdi_full\n",
    "norm_ul = (ul_full) / rdi_full\n",
    "\n",
    "nuts = pd.concat([pd.Series(norm.values, name='value'), pd.Series(norm.index, name='name')], axis=1)\n",
    "total.index\n",
    "norm.index"
   ]
  },
  {
   "cell_type": "code",
   "execution_count": 38,
   "metadata": {},
   "outputs": [],
   "source": [
    "# Setup categories of nutrients and a common plotting function\n",
    "vitamins = ['Vitamin A (IU)','Vitamin B6 (mg)','Vitamin B12 (ug)','Vitamin C (mg)','Vitamin D (IU)',\n",
    "            'Vitamin E (IU)','Vitamin K (ug)','Thiamin (mg)','Riboflavin (mg)','Niacin (mg)','Folate (ug)','Pantothenic Acid (mg)','Biotin (ug)','Choline (mg)']\n",
    "minerals = ['Calcium (g)','Chloride (g)','Chromium (ug)','Copper (mg)','Iodine (ug)','Iron (mg)',\n",
    "            'Magnesium (mg)','Manganese (mg)','Molybdenum (ug)','Phosphorus (g)','Potassium (g)','Selenium (ug)','Sodium (g)','Sulfur (g)','Zinc (mg)']\n",
    "essential_aminoacids = ['Cystine (mg)','Histidine (mg)','Isoleucine (mg)','Leucine (mg)','Lysine (mg)',\n",
    "                        'Methionine (mg)','Phenylalanine (mg)','Threonine (mg)','Tryptophan (mg)','Valine (mg)']\n",
    "other_aminoacids = ['Tyrosine (mg)','Arginine (mg)','Alanine (mg)','Aspartic acid (mg)','Glutamic acid (mg)','Glycine (mg)','Proline (mg)','Serine (mg)','Hydroxyproline (mg)']\n",
    "\n",
    "def plot_group(nut_names, title):\n",
    "    nut_names_short = [s.split(' (')[0] for s in nut_names] # Snip off the units from the nutrient names\n",
    "    \n",
    "    # Create a bar to indicate an upper limit \n",
    "    ul_bar = (norm_ul * 1.04)[nut_names]\n",
    "    ul_bar[ul_full[nut_names].isnull() == True] = 0\n",
    "    \n",
    "    # Create a bar to mask the UL bar so just the end is exposed\n",
    "    ul_mask = norm_ul[nut_names]\n",
    "    ul_mask[ul_full[nut_names].isnull() == True] = 0\n",
    "    \n",
    "    \n",
    "    n = []  # normalized values for each bar\n",
    "    for x, mx in zip(norm[nut_names], ul_mask.values):\n",
    "        if mx == 0: # no upper limit\n",
    "            if x < 1.0:\n",
    "                n.append(1.0 - (x / 2.0))\n",
    "            else:\n",
    "                n.append(0.50)\n",
    "        else:\n",
    "            n.append(1.0 - (log10(x) / log10(mx)))\n",
    "    clrs = sm.to_rgba(n, norm=False)\n",
    "    \n",
    "    g = sns.barplot(x=ul_bar.values, y=nut_names_short, color='red')\n",
    "    g.set_xscale('log')\n",
    "    sns.barplot(x=ul_mask.values, y=nut_names_short, color='white')\n",
    "    bax = sns.barplot(x=norm[nut_names], y=nut_names_short, label=\"Total\", palette=clrs)\n",
    "    \n",
    "    # Add a legend and informative axis label\n",
    "    g.set( ylabel=\"\",xlabel=\"Nutrient Mass / RDI (Red Band is UL)\", title=title)\n",
    "\n",
    "    #sns.despine(left=True, bottom=True)"
   ]
  },
  {
   "cell_type": "code",
   "execution_count": 39,
   "metadata": {},
   "outputs": [
    {
     "data": {
      "image/png": "[encoded data removed]",
      "text/plain": [
       "<Figure size 1440x1440 with 4 Axes>"
      ]
     },
     "metadata": {
      "needs_background": "light"
     },
     "output_type": "display_data"
    }
   ],
   "source": [
    "# Construct a group of bar charts for each nutrient group\n",
    "\n",
    "# Setup the colormap for each bar\n",
    "cmap = plt.get_cmap('Spectral')\n",
    "sm = plt.cm.ScalarMappable(cmap=cmap)\n",
    "\n",
    "#fig = plt.figure(figsize=plt.figaspect(3.))\n",
    "fig = plt.figure(figsize=(20, 20))\n",
    "fig.add_subplot(4, 1, 1)\n",
    "plot_group(vitamins,'Vitamin amounts relative to RDI')\n",
    "fig.add_subplot(4, 1, 2)\n",
    "plot_group(minerals,'Mineral amounts relative to RDI')\n",
    "fig.add_subplot(4, 1, 3)\n",
    "plot_group(essential_aminoacids,'Essential amino acid amounts relative to RDI')\n",
    "fig.add_subplot(4, 1, 4)\n",
    "plot_group(other_aminoacids,'Other amino acid amounts relative to RDI')\n",
    "\n",
    "#fig.show()\n",
    "fig.tight_layout()"
   ]
  },
  {
   "cell_type": "code",
   "execution_count": 42,
   "metadata": {},
   "outputs": [
    {
     "data": {
      "text/plain": [
       "Calories (kcal)        2000.1\n",
       "Carbohydrates (g)         300\n",
       "Protein (g)               300\n",
       "Total Fat (g)              70\n",
       "Saturated Fat (g)          22\n",
       "                        ...  \n",
       "Glutamic acid (mg)       3000\n",
       "Glycine (mg)            10000\n",
       "Proline (mg)              NaN\n",
       "Serine (mg)               NaN\n",
       "Hydroxyproline (mg)       NaN\n",
       "Name: UL, Length: 61, dtype: object"
      ]
     },
     "execution_count": 42,
     "metadata": {},
     "output_type": "execute_result"
    }
   ],
   "source": [
    "ul_full"
   ]
  },
  {
   "cell_type": "code",
   "execution_count": 41,
   "metadata": {},
   "outputs": [
    {
     "data": {
      "text/plain": [
       "Calories (kcal)        2000\n",
       "Carbohydrates (g)       279\n",
       "Protein (g)             104\n",
       "Total Fat (g)            57\n",
       "Saturated Fat (g)         8\n",
       "                       ... \n",
       "Glutamic acid (mg)      500\n",
       "Glycine (mg)           1000\n",
       "Proline (mg)            500\n",
       "Serine (mg)             500\n",
       "Hydroxyproline (mg)       1\n",
       "Name: RDI, Length: 61, dtype: object"
      ]
     },
     "execution_count": 41,
     "metadata": {},
     "output_type": "execute_result"
    }
   ],
   "source": [
    "rdi_full"
   ]
  },
  {
   "cell_type": "code",
   "execution_count": null,
   "metadata": {},
   "outputs": [],
   "source": []
  }
 ],
 "metadata": {
  "kernelspec": {
   "display_name": "Python 3",
   "language": "python",
   "name": "python3"
  },
  "language_info": {
   "codemirror_mode": {
    "name": "ipython",
    "version": 3
   },
   "file_extension": ".py",
   "mimetype": "text/x-python",
   "name": "python",
   "nbconvert_exporter": "python",
   "pygments_lexer": "ipython3",
   "version": "3.7.5"
  }
 },
 "nbformat": 4,
 "nbformat_minor": 4
}
